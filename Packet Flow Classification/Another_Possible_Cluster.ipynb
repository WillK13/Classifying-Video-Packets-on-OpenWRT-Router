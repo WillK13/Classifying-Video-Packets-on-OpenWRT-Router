{
 "cells": [
  {
   "cell_type": "code",
   "execution_count": 3,
   "metadata": {},
   "outputs": [
    {
     "name": "stderr",
     "output_type": "stream",
     "text": [
      "/anaconda3/lib/python3.6/site-packages/h5py/__init__.py:36: FutureWarning: Conversion of the second argument of issubdtype from `float` to `np.floating` is deprecated. In future, it will be treated as `np.float64 == np.dtype(float).type`.\n",
      "  from ._conv import register_converters as _register_converters\n"
     ]
    },
    {
     "name": "stdout",
     "output_type": "stream",
     "text": [
      "WARNING:tensorflow:From /anaconda3/lib/python3.6/site-packages/tensorflow/python/util/tf_should_use.py:118: initialize_all_variables (from tensorflow.python.ops.variables) is deprecated and will be removed after 2017-03-02.\n",
      "Instructions for updating:\n",
      "Use `tf.global_variables_initializer` instead.\n",
      "Found in 0.26 seconds\n",
      "Centroids:\n",
      "[[0.763207   0.75075907]\n",
      " [0.25955242 0.7442443 ]\n",
      " [0.7506321  0.24735601]\n",
      " [0.24969311 0.24964216]]\n",
      "Cluster assignments: [1 3 2 ... 0 2 0]\n"
     ]
    }
   ],
   "source": [
    "import tensorflow as tf\n",
    "import numpy as np\n",
    "import time\n",
    "\n",
    "N=10000\n",
    "K=4\n",
    "MAX_ITERS = 1000\n",
    "\n",
    "start = time.time()\n",
    "\n",
    "points = tf.Variable(tf.random_uniform([N,2]))\n",
    "cluster_assignments = tf.Variable(tf.zeros([N], dtype=tf.int64))\n",
    "\n",
    "# Silly initialization:  Use the first K points as the starting\n",
    "# centroids.  In the real world, do this better.\n",
    "centroids = tf.Variable(tf.slice(points.initialized_value(), [0,0], [K,2]))\n",
    "\n",
    "# Replicate to N copies of each centroid and K copies of each\n",
    "# point, then subtract and compute the sum of squared distances.\n",
    "rep_centroids = tf.reshape(tf.tile(centroids, [N, 1]), [N, K, 2])\n",
    "rep_points = tf.reshape(tf.tile(points, [1, K]), [N, K, 2])\n",
    "sum_squares = tf.reduce_sum(tf.square(rep_points - rep_centroids), \n",
    "                            reduction_indices=2)\n",
    "\n",
    "# Use argmin to select the lowest-distance point\n",
    "best_centroids = tf.argmin(sum_squares, 1)\n",
    "did_assignments_change = tf.reduce_any(tf.not_equal(best_centroids, \n",
    "                                                    cluster_assignments))\n",
    "\n",
    "def bucket_mean(data, bucket_ids, num_buckets):\n",
    "    total = tf.unsorted_segment_sum(data, bucket_ids, num_buckets)\n",
    "    count = tf.unsorted_segment_sum(tf.ones_like(data), bucket_ids, num_buckets)\n",
    "    return total / count\n",
    "\n",
    "means = bucket_mean(points, best_centroids, K)\n",
    "\n",
    "# Do not write to the assigned clusters variable until after\n",
    "# computing whether the assignments have changed - hence with_dependencies\n",
    "with tf.control_dependencies([did_assignments_change]):\n",
    "    do_updates = tf.group(\n",
    "        centroids.assign(means),\n",
    "        cluster_assignments.assign(best_centroids))\n",
    "\n",
    "init = tf.initialize_all_variables()\n",
    "\n",
    "sess = tf.Session()\n",
    "sess.run(init)\n",
    "\n",
    "changed = True\n",
    "iters = 0\n",
    "\n",
    "while changed and iters < MAX_ITERS:\n",
    "    iters += 1\n",
    "    [changed, _] = sess.run([did_assignments_change, do_updates])\n",
    "\n",
    "[centers, assignments] = sess.run([centroids, cluster_assignments])\n",
    "end = time.time()\n",
    "print (\"Found in %.2f seconds\" % (end-start)), iters, \"iterations\"\n",
    "print (\"Centroids:\")\n",
    "print (centers)\n",
    "print (\"Cluster assignments:\", assignments)"
   ]
  },
  {
   "cell_type": "code",
   "execution_count": null,
   "metadata": {},
   "outputs": [],
   "source": []
  }
 ],
 "metadata": {
  "kernelspec": {
   "display_name": "Python 3",
   "language": "python",
   "name": "python3"
  },
  "language_info": {
   "codemirror_mode": {
    "name": "ipython",
    "version": 3
   },
   "file_extension": ".py",
   "mimetype": "text/x-python",
   "name": "python",
   "nbconvert_exporter": "python",
   "pygments_lexer": "ipython3",
   "version": "3.6.5"
  }
 },
 "nbformat": 4,
 "nbformat_minor": 2
}
