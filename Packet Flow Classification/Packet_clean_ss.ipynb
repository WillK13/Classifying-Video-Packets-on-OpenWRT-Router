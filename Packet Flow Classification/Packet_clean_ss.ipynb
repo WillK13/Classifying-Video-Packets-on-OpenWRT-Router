{
 "cells": [
  {
   "cell_type": "code",
   "execution_count": 13,
   "metadata": {},
   "outputs": [],
   "source": [
    "from pathlib import Path\n",
    "\n",
    "import click\n",
    "import numpy as np\n",
    "import pandas as pd\n",
    "from joblib import Parallel, delayed\n",
    "\n",
    "\n"
   ]
  },
  {
   "cell_type": "code",
   "execution_count": 2,
   "metadata": {},
   "outputs": [],
   "source": [
    "def remove_ether_header(packet):\n",
    "    if Ether in packet:\n",
    "        return packet[Ether].payload\n",
    "\n",
    "    return packet\n"
   ]
  },
  {
   "cell_type": "code",
   "execution_count": 3,
   "metadata": {},
   "outputs": [],
   "source": [
    "def mask_ip(packet):\n",
    "    if IP in packet:\n",
    "        packet[IP].src = '0.0.0.0'\n",
    "        packet[IP].dst = '0.0.0.0'\n",
    "\n",
    "    return packet"
   ]
  },
  {
   "cell_type": "code",
   "execution_count": 4,
   "metadata": {},
   "outputs": [],
   "source": [
    "def pad_udp(packet):\n",
    "    if UDP in packet:\n",
    "        # get layers after udp\n",
    "        layer_after = packet[UDP].payload.copy()\n",
    "\n",
    "        # build a padding layer\n",
    "        pad = Padding()\n",
    "        pad.load = '\\x00' * 12\n",
    "\n",
    "        layer_before = packet.copy()\n",
    "        layer_before[UDP].remove_payload()\n",
    "        packet = layer_before / pad / layer_after\n",
    "\n",
    "        return packet\n",
    "\n",
    "    return packet"
   ]
  },
  {
   "cell_type": "code",
   "execution_count": 5,
   "metadata": {},
   "outputs": [],
   "source": [
    "def packet_to_sparse_array(packet, max_length=1500):\n",
    "    arr = np.frombuffer(raw(packet), dtype=np.uint8)[0: max_length] / 255\n",
    "    if len(arr) < max_length:\n",
    "        pad_width = max_length - len(arr)\n",
    "        arr = np.pad(arr, pad_width=(0, pad_width), constant_values=0)\n",
    "\n",
    "    arr = sparse.csr_matrix(arr)\n",
    "    return arr"
   ]
  },
  {
   "cell_type": "code",
   "execution_count": 6,
   "metadata": {},
   "outputs": [],
   "source": [
    "def transform_packet(packet):\n",
    "    if should_omit_packet(packet):\n",
    "        return None\n",
    "\n",
    "    packet = remove_ether_header(packet)\n",
    "    packet = pad_udp(packet)\n",
    "    packet = mask_ip(packet)\n",
    "\n",
    "    arr = packet_to_sparse_array(packet)\n",
    "\n",
    "    return arr"
   ]
  },
  {
   "cell_type": "code",
   "execution_count": 7,
   "metadata": {},
   "outputs": [],
   "source": [
    "def transform_pcap(path, output_path: Path = None, output_batch_size=10000):\n",
    "    if Path(str(output_path.absolute()) + '_SUCCESS').exists():\n",
    "        print(output_path, 'Done')\n",
    "        return"
   ]
  },
  {
   "cell_type": "code",
   "execution_count": 8,
   "metadata": {},
   "outputs": [],
   "source": [
    "def transform_pcap(path, output_path: Path = None, output_batch_size=10000):\n",
    "    if Path(str(output_path.absolute()) + '_SUCCESS').exists():\n",
    "        print(output_path, 'Done')\n",
    "        return\n",
    "\n",
    "    print('Processing', path)\n",
    "\n",
    "    rows = []\n",
    "    batch_index = 0\n",
    "    for i, packet in enumerate(read_pcap(path)):\n",
    "        arr = transform_packet(packet)\n",
    "        if arr is not None:\n",
    "            # get labels for app identification\n",
    "            prefix = path.name.split('.')[0].lower()\n",
    "            app_label = PREFIX_TO_APP_ID.get(prefix)\n",
    "            traffic_label = PREFIX_TO_TRAFFIC_ID.get(prefix)\n",
    "            row = {\n",
    "                'app_label': app_label,\n",
    "                'traffic_label': traffic_label,\n",
    "                'feature': arr.todense().tolist()[0]\n",
    "            }\n",
    "            rows.append(row)\n",
    "\n",
    "        # write every batch_size packets, by default 10000\n",
    "        if rows and i > 0 and i % output_batch_size == 0:\n",
    "            part_output_path = Path(str(output_path.absolute()) + f'_part_{batch_index:04d}.parquet')\n",
    "            df = pd.DataFrame(rows)\n",
    "            df.to_parquet(part_output_path)\n",
    "            batch_index += 1\n",
    "            rows.clear()\n",
    "\n",
    "    # final write\n",
    "    if rows:\n",
    "        df = pd.DataFrame(rows)\n",
    "        part_output_path = Path(str(output_path.absolute()) + f'_part_{batch_index:04d}.parquet')\n",
    "        df.to_parquet(part_output_path)\n",
    "\n",
    "    # write success file\n",
    "    with Path(str(output_path.absolute()) + '_SUCCESS').open('w') as f:\n",
    "        f.write('')\n",
    "\n",
    "    print(output_path, 'Done')"
   ]
  },
  {
   "cell_type": "code",
   "execution_count": 10,
   "metadata": {},
   "outputs": [],
   "source": [
    "def main(source, target, njob):\n",
    "    data_dir_path = Path(source)\n",
    "    target_dir_path = Path(target)\n",
    "    target_dir_path.mkdir(parents=True, exist_ok=True)\n",
    "    Parallel(n_jobs=njob)(\n",
    "        delayed(transform_pcap)(pcap_path, target_dir_path / (pcap_path.name + '.transformed')) for pcap_path in\n",
    "        sorted(data_dir_path.iterdir()))\n",
    "\n"
   ]
  },
  {
   "cell_type": "code",
   "execution_count": null,
   "metadata": {},
   "outputs": [],
   "source": [
    "if __name__ == '__main__':\n",
    "    main()"
   ]
  }
 ],
 "metadata": {
  "kernelspec": {
   "display_name": "Python 3",
   "language": "python",
   "name": "python3"
  },
  "language_info": {
   "codemirror_mode": {
    "name": "ipython",
    "version": 3
   },
   "file_extension": ".py",
   "mimetype": "text/x-python",
   "name": "python",
   "nbconvert_exporter": "python",
   "pygments_lexer": "ipython3",
   "version": "3.8.5"
  }
 },
 "nbformat": 4,
 "nbformat_minor": 4
}
