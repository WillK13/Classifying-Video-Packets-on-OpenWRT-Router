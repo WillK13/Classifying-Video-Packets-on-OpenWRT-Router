{
 "cells": [
  {
   "cell_type": "code",
   "execution_count": 45,
   "metadata": {},
   "outputs": [],
   "source": [
    "import pandas as pd\n",
    "import numpy as np\n",
    "import random as rd\n",
    "import matplotlib.pyplot as plt"
   ]
  },
  {
   "cell_type": "code",
   "execution_count": 46,
   "metadata": {},
   "outputs": [
    {
     "data": {
      "text/html": [
       "<div>\n",
       "<style scoped>\n",
       "    .dataframe tbody tr th:only-of-type {\n",
       "        vertical-align: middle;\n",
       "    }\n",
       "\n",
       "    .dataframe tbody tr th {\n",
       "        vertical-align: top;\n",
       "    }\n",
       "\n",
       "    .dataframe thead th {\n",
       "        text-align: right;\n",
       "    }\n",
       "</style>\n",
       "<table border=\"1\" class=\"dataframe\">\n",
       "  <thead>\n",
       "    <tr style=\"text-align: right;\">\n",
       "      <th></th>\n",
       "      <th>src_ip</th>\n",
       "      <th>src_port</th>\n",
       "      <th>dst_ip</th>\n",
       "      <th>dst_port</th>\n",
       "      <th>proto</th>\n",
       "      <th>pktTotalCount</th>\n",
       "      <th>octetTotalCount</th>\n",
       "      <th>min_ps</th>\n",
       "      <th>max_ps</th>\n",
       "      <th>avg_ps</th>\n",
       "      <th>std_dev_ps</th>\n",
       "      <th>flowStart</th>\n",
       "      <th>flowEnd</th>\n",
       "      <th>flowDuration</th>\n",
       "      <th>min_piat</th>\n",
       "      <th>max_piat</th>\n",
       "      <th>avg_piat</th>\n",
       "      <th>std_dev_piat</th>\n",
       "    </tr>\n",
       "  </thead>\n",
       "  <tbody>\n",
       "    <tr>\n",
       "      <th>0</th>\n",
       "      <td>172.217.12.170</td>\n",
       "      <td>443</td>\n",
       "      <td>192.168.8.219</td>\n",
       "      <td>55530</td>\n",
       "      <td>6</td>\n",
       "      <td>51</td>\n",
       "      <td>4335</td>\n",
       "      <td>85</td>\n",
       "      <td>85</td>\n",
       "      <td>85.000000</td>\n",
       "      <td>0.000000</td>\n",
       "      <td>1.593452e+09</td>\n",
       "      <td>1.593453e+09</td>\n",
       "      <td>1440.048191</td>\n",
       "      <td>9.012222e-05</td>\n",
       "      <td>30.306676</td>\n",
       "      <td>28.800964</td>\n",
       "      <td>5.879810</td>\n",
       "    </tr>\n",
       "    <tr>\n",
       "      <th>1</th>\n",
       "      <td>192.168.8.219</td>\n",
       "      <td>55530</td>\n",
       "      <td>172.217.12.170</td>\n",
       "      <td>443</td>\n",
       "      <td>6</td>\n",
       "      <td>51</td>\n",
       "      <td>2676</td>\n",
       "      <td>52</td>\n",
       "      <td>64</td>\n",
       "      <td>52.470588</td>\n",
       "      <td>2.329293</td>\n",
       "      <td>1.593452e+09</td>\n",
       "      <td>1.593453e+09</td>\n",
       "      <td>1440.048191</td>\n",
       "      <td>7.390976e-05</td>\n",
       "      <td>30.306626</td>\n",
       "      <td>28.800964</td>\n",
       "      <td>5.879813</td>\n",
       "    </tr>\n",
       "    <tr>\n",
       "      <th>2</th>\n",
       "      <td>77.234.46.106</td>\n",
       "      <td>80</td>\n",
       "      <td>192.168.8.219</td>\n",
       "      <td>55557</td>\n",
       "      <td>6</td>\n",
       "      <td>66</td>\n",
       "      <td>20066</td>\n",
       "      <td>52</td>\n",
       "      <td>1500</td>\n",
       "      <td>304.030303</td>\n",
       "      <td>474.175807</td>\n",
       "      <td>1.593452e+09</td>\n",
       "      <td>1.593453e+09</td>\n",
       "      <td>1433.032501</td>\n",
       "      <td>1.127720e-04</td>\n",
       "      <td>45.622300</td>\n",
       "      <td>22.046654</td>\n",
       "      <td>21.045142</td>\n",
       "    </tr>\n",
       "    <tr>\n",
       "      <th>3</th>\n",
       "      <td>192.168.8.219</td>\n",
       "      <td>55557</td>\n",
       "      <td>77.234.46.106</td>\n",
       "      <td>80</td>\n",
       "      <td>6</td>\n",
       "      <td>62</td>\n",
       "      <td>6468</td>\n",
       "      <td>40</td>\n",
       "      <td>306</td>\n",
       "      <td>104.322581</td>\n",
       "      <td>109.045237</td>\n",
       "      <td>1.593452e+09</td>\n",
       "      <td>1.593453e+09</td>\n",
       "      <td>1433.012500</td>\n",
       "      <td>3.488064e-04</td>\n",
       "      <td>45.611806</td>\n",
       "      <td>23.492008</td>\n",
       "      <td>20.931158</td>\n",
       "    </tr>\n",
       "    <tr>\n",
       "      <th>4</th>\n",
       "      <td>192.168.8.219</td>\n",
       "      <td>57580</td>\n",
       "      <td>104.16.122.127</td>\n",
       "      <td>443</td>\n",
       "      <td>6</td>\n",
       "      <td>8</td>\n",
       "      <td>344</td>\n",
       "      <td>40</td>\n",
       "      <td>64</td>\n",
       "      <td>43.000000</td>\n",
       "      <td>7.937254</td>\n",
       "      <td>1.593452e+09</td>\n",
       "      <td>1.593452e+09</td>\n",
       "      <td>91.506789</td>\n",
       "      <td>9.536743e-07</td>\n",
       "      <td>45.224904</td>\n",
       "      <td>13.072398</td>\n",
       "      <td>20.310847</td>\n",
       "    </tr>\n",
       "  </tbody>\n",
       "</table>\n",
       "</div>"
      ],
      "text/plain": [
       "           src_ip  src_port          dst_ip  dst_port  proto  pktTotalCount  \\\n",
       "0  172.217.12.170       443   192.168.8.219     55530      6             51   \n",
       "1   192.168.8.219     55530  172.217.12.170       443      6             51   \n",
       "2   77.234.46.106        80   192.168.8.219     55557      6             66   \n",
       "3   192.168.8.219     55557   77.234.46.106        80      6             62   \n",
       "4   192.168.8.219     57580  104.16.122.127       443      6              8   \n",
       "\n",
       "   octetTotalCount  min_ps  max_ps      avg_ps  std_dev_ps     flowStart  \\\n",
       "0             4335      85      85   85.000000    0.000000  1.593452e+09   \n",
       "1             2676      52      64   52.470588    2.329293  1.593452e+09   \n",
       "2            20066      52    1500  304.030303  474.175807  1.593452e+09   \n",
       "3             6468      40     306  104.322581  109.045237  1.593452e+09   \n",
       "4              344      40      64   43.000000    7.937254  1.593452e+09   \n",
       "\n",
       "        flowEnd  flowDuration      min_piat   max_piat   avg_piat  \\\n",
       "0  1.593453e+09   1440.048191  9.012222e-05  30.306676  28.800964   \n",
       "1  1.593453e+09   1440.048191  7.390976e-05  30.306626  28.800964   \n",
       "2  1.593453e+09   1433.032501  1.127720e-04  45.622300  22.046654   \n",
       "3  1.593453e+09   1433.012500  3.488064e-04  45.611806  23.492008   \n",
       "4  1.593452e+09     91.506789  9.536743e-07  45.224904  13.072398   \n",
       "\n",
       "   std_dev_piat  \n",
       "0      5.879810  \n",
       "1      5.879813  \n",
       "2     21.045142  \n",
       "3     20.931158  \n",
       "4     20.310847  "
      ]
     },
     "execution_count": 46,
     "metadata": {},
     "output_type": "execute_result"
    }
   ],
   "source": [
    "data = Data = pd.read_csv('results.csv', delimiter = ',', encoding='latin-1', header=0)\n",
    "data.head()"
   ]
  },
  {
   "cell_type": "code",
   "execution_count": 47,
   "metadata": {},
   "outputs": [],
   "source": [
    "import numpy as np\n",
    "import pandas as pd \n",
    "from sklearn.cluster import KMeans\n",
    "import matplotlib.pyplot as plt\n",
    "import seaborn as sns\n",
    "from mpl_toolkits.mplot3d import Axes3D\n",
    "import plotly.graph_objs as go\n",
    "from plotly import tools\n",
    "from plotly.subplots import make_subplots\n",
    "import plotly.offline as py"
   ]
  },
  {
   "cell_type": "code",
   "execution_count": 48,
   "metadata": {},
   "outputs": [
    {
     "data": {
      "text/html": [
       "<div>\n",
       "<style scoped>\n",
       "    .dataframe tbody tr th:only-of-type {\n",
       "        vertical-align: middle;\n",
       "    }\n",
       "\n",
       "    .dataframe tbody tr th {\n",
       "        vertical-align: top;\n",
       "    }\n",
       "\n",
       "    .dataframe thead th {\n",
       "        text-align: right;\n",
       "    }\n",
       "</style>\n",
       "<table border=\"1\" class=\"dataframe\">\n",
       "  <thead>\n",
       "    <tr style=\"text-align: right;\">\n",
       "      <th></th>\n",
       "      <th>src_ip</th>\n",
       "      <th>src_port</th>\n",
       "      <th>dst_ip</th>\n",
       "      <th>dst_port</th>\n",
       "      <th>proto</th>\n",
       "      <th>pktTotalCount</th>\n",
       "      <th>octetTotalCount</th>\n",
       "      <th>min_ps</th>\n",
       "      <th>max_ps</th>\n",
       "      <th>avg_ps</th>\n",
       "      <th>std_dev_ps</th>\n",
       "      <th>flowStart</th>\n",
       "      <th>flowEnd</th>\n",
       "      <th>flowDuration</th>\n",
       "      <th>min_piat</th>\n",
       "      <th>max_piat</th>\n",
       "      <th>avg_piat</th>\n",
       "      <th>std_dev_piat</th>\n",
       "    </tr>\n",
       "  </thead>\n",
       "  <tbody>\n",
       "    <tr>\n",
       "      <th>0</th>\n",
       "      <td>172.217.12.170</td>\n",
       "      <td>443</td>\n",
       "      <td>192.168.8.219</td>\n",
       "      <td>55530</td>\n",
       "      <td>6</td>\n",
       "      <td>51</td>\n",
       "      <td>4335</td>\n",
       "      <td>85</td>\n",
       "      <td>85</td>\n",
       "      <td>85.000000</td>\n",
       "      <td>0.000000</td>\n",
       "      <td>1.593452e+09</td>\n",
       "      <td>1.593453e+09</td>\n",
       "      <td>1440.048191</td>\n",
       "      <td>9.012222e-05</td>\n",
       "      <td>30.306676</td>\n",
       "      <td>28.800964</td>\n",
       "      <td>5.879810</td>\n",
       "    </tr>\n",
       "    <tr>\n",
       "      <th>1</th>\n",
       "      <td>192.168.8.219</td>\n",
       "      <td>55530</td>\n",
       "      <td>172.217.12.170</td>\n",
       "      <td>443</td>\n",
       "      <td>6</td>\n",
       "      <td>51</td>\n",
       "      <td>2676</td>\n",
       "      <td>52</td>\n",
       "      <td>64</td>\n",
       "      <td>52.470588</td>\n",
       "      <td>2.329293</td>\n",
       "      <td>1.593452e+09</td>\n",
       "      <td>1.593453e+09</td>\n",
       "      <td>1440.048191</td>\n",
       "      <td>7.390976e-05</td>\n",
       "      <td>30.306626</td>\n",
       "      <td>28.800964</td>\n",
       "      <td>5.879813</td>\n",
       "    </tr>\n",
       "    <tr>\n",
       "      <th>2</th>\n",
       "      <td>77.234.46.106</td>\n",
       "      <td>80</td>\n",
       "      <td>192.168.8.219</td>\n",
       "      <td>55557</td>\n",
       "      <td>6</td>\n",
       "      <td>66</td>\n",
       "      <td>20066</td>\n",
       "      <td>52</td>\n",
       "      <td>1500</td>\n",
       "      <td>304.030303</td>\n",
       "      <td>474.175807</td>\n",
       "      <td>1.593452e+09</td>\n",
       "      <td>1.593453e+09</td>\n",
       "      <td>1433.032501</td>\n",
       "      <td>1.127720e-04</td>\n",
       "      <td>45.622300</td>\n",
       "      <td>22.046654</td>\n",
       "      <td>21.045142</td>\n",
       "    </tr>\n",
       "    <tr>\n",
       "      <th>3</th>\n",
       "      <td>192.168.8.219</td>\n",
       "      <td>55557</td>\n",
       "      <td>77.234.46.106</td>\n",
       "      <td>80</td>\n",
       "      <td>6</td>\n",
       "      <td>62</td>\n",
       "      <td>6468</td>\n",
       "      <td>40</td>\n",
       "      <td>306</td>\n",
       "      <td>104.322581</td>\n",
       "      <td>109.045237</td>\n",
       "      <td>1.593452e+09</td>\n",
       "      <td>1.593453e+09</td>\n",
       "      <td>1433.012500</td>\n",
       "      <td>3.488064e-04</td>\n",
       "      <td>45.611806</td>\n",
       "      <td>23.492008</td>\n",
       "      <td>20.931158</td>\n",
       "    </tr>\n",
       "    <tr>\n",
       "      <th>4</th>\n",
       "      <td>192.168.8.219</td>\n",
       "      <td>57580</td>\n",
       "      <td>104.16.122.127</td>\n",
       "      <td>443</td>\n",
       "      <td>6</td>\n",
       "      <td>8</td>\n",
       "      <td>344</td>\n",
       "      <td>40</td>\n",
       "      <td>64</td>\n",
       "      <td>43.000000</td>\n",
       "      <td>7.937254</td>\n",
       "      <td>1.593452e+09</td>\n",
       "      <td>1.593452e+09</td>\n",
       "      <td>91.506789</td>\n",
       "      <td>9.536743e-07</td>\n",
       "      <td>45.224904</td>\n",
       "      <td>13.072398</td>\n",
       "      <td>20.310847</td>\n",
       "    </tr>\n",
       "  </tbody>\n",
       "</table>\n",
       "</div>"
      ],
      "text/plain": [
       "           src_ip  src_port          dst_ip  dst_port  proto  pktTotalCount  \\\n",
       "0  172.217.12.170       443   192.168.8.219     55530      6             51   \n",
       "1   192.168.8.219     55530  172.217.12.170       443      6             51   \n",
       "2   77.234.46.106        80   192.168.8.219     55557      6             66   \n",
       "3   192.168.8.219     55557   77.234.46.106        80      6             62   \n",
       "4   192.168.8.219     57580  104.16.122.127       443      6              8   \n",
       "\n",
       "   octetTotalCount  min_ps  max_ps      avg_ps  std_dev_ps     flowStart  \\\n",
       "0             4335      85      85   85.000000    0.000000  1.593452e+09   \n",
       "1             2676      52      64   52.470588    2.329293  1.593452e+09   \n",
       "2            20066      52    1500  304.030303  474.175807  1.593452e+09   \n",
       "3             6468      40     306  104.322581  109.045237  1.593452e+09   \n",
       "4              344      40      64   43.000000    7.937254  1.593452e+09   \n",
       "\n",
       "        flowEnd  flowDuration      min_piat   max_piat   avg_piat  \\\n",
       "0  1.593453e+09   1440.048191  9.012222e-05  30.306676  28.800964   \n",
       "1  1.593453e+09   1440.048191  7.390976e-05  30.306626  28.800964   \n",
       "2  1.593453e+09   1433.032501  1.127720e-04  45.622300  22.046654   \n",
       "3  1.593453e+09   1433.012500  3.488064e-04  45.611806  23.492008   \n",
       "4  1.593452e+09     91.506789  9.536743e-07  45.224904  13.072398   \n",
       "\n",
       "   std_dev_piat  \n",
       "0      5.879810  \n",
       "1      5.879813  \n",
       "2     21.045142  \n",
       "3     20.931158  \n",
       "4     20.310847  "
      ]
     },
     "execution_count": 48,
     "metadata": {},
     "output_type": "execute_result"
    }
   ],
   "source": [
    "df = pd.read_csv('results.csv')\n",
    "df.head()"
   ]
  },
  {
   "cell_type": "code",
   "execution_count": 49,
   "metadata": {},
   "outputs": [
    {
     "name": "stdout",
     "output_type": "stream",
     "text": [
      "<class 'pandas.core.frame.DataFrame'>\n",
      "RangeIndex: 577 entries, 0 to 576\n",
      "Data columns (total 18 columns):\n",
      " #   Column           Non-Null Count  Dtype  \n",
      "---  ------           --------------  -----  \n",
      " 0   src_ip           577 non-null    object \n",
      " 1   src_port         577 non-null    int64  \n",
      " 2   dst_ip           577 non-null    object \n",
      " 3   dst_port         577 non-null    int64  \n",
      " 4   proto            577 non-null    int64  \n",
      " 5   pktTotalCount    577 non-null    int64  \n",
      " 6   octetTotalCount  577 non-null    int64  \n",
      " 7   min_ps           577 non-null    int64  \n",
      " 8   max_ps           577 non-null    int64  \n",
      " 9   avg_ps           577 non-null    float64\n",
      " 10  std_dev_ps       577 non-null    float64\n",
      " 11  flowStart        577 non-null    float64\n",
      " 12  flowEnd          577 non-null    float64\n",
      " 13  flowDuration     577 non-null    float64\n",
      " 14  min_piat         577 non-null    float64\n",
      " 15  max_piat         577 non-null    float64\n",
      " 16  avg_piat         577 non-null    float64\n",
      " 17  std_dev_piat     577 non-null    float64\n",
      "dtypes: float64(9), int64(7), object(2)\n",
      "memory usage: 81.3+ KB\n"
     ]
    }
   ],
   "source": [
    "df.info()"
   ]
  },
  {
   "cell_type": "code",
   "execution_count": 50,
   "metadata": {},
   "outputs": [],
   "source": [
    "x = df.iloc[:,[3,4]].values"
   ]
  },
  {
   "cell_type": "code",
   "execution_count": 51,
   "metadata": {},
   "outputs": [
    {
     "ename": "OSError",
     "evalue": "image not already loaded",
     "output_type": "error",
     "traceback": [
      "\u001b[0;31m---------------------------------------------------------------------------\u001b[0m",
      "\u001b[0;31mOSError\u001b[0m                                   Traceback (most recent call last)",
      "\u001b[0;32m<ipython-input-51-c6ebfbb2774b>\u001b[0m in \u001b[0;36m<module>\u001b[0;34m\u001b[0m\n\u001b[1;32m      2\u001b[0m \u001b[0;32mfor\u001b[0m \u001b[0mi\u001b[0m \u001b[0;32min\u001b[0m \u001b[0mrange\u001b[0m\u001b[0;34m(\u001b[0m\u001b[0;36m1\u001b[0m\u001b[0;34m,\u001b[0m\u001b[0;36m11\u001b[0m\u001b[0;34m)\u001b[0m\u001b[0;34m:\u001b[0m\u001b[0;34m\u001b[0m\u001b[0;34m\u001b[0m\u001b[0m\n\u001b[1;32m      3\u001b[0m     \u001b[0mmodel\u001b[0m \u001b[0;34m=\u001b[0m \u001b[0mKMeans\u001b[0m\u001b[0;34m(\u001b[0m\u001b[0mn_clusters\u001b[0m \u001b[0;34m=\u001b[0m \u001b[0mi\u001b[0m\u001b[0;34m,\u001b[0m\u001b[0minit\u001b[0m \u001b[0;34m=\u001b[0m \u001b[0;34m'k-means++'\u001b[0m\u001b[0;34m)\u001b[0m\u001b[0;34m\u001b[0m\u001b[0;34m\u001b[0m\u001b[0m\n\u001b[0;32m----> 4\u001b[0;31m     \u001b[0mmodel\u001b[0m\u001b[0;34m.\u001b[0m\u001b[0mfit\u001b[0m\u001b[0;34m(\u001b[0m\u001b[0mx\u001b[0m\u001b[0;34m)\u001b[0m\u001b[0;34m\u001b[0m\u001b[0;34m\u001b[0m\u001b[0m\n\u001b[0m\u001b[1;32m      5\u001b[0m     \u001b[0mWCSS\u001b[0m\u001b[0;34m.\u001b[0m\u001b[0mappend\u001b[0m\u001b[0;34m(\u001b[0m\u001b[0mmodel\u001b[0m\u001b[0;34m.\u001b[0m\u001b[0minertia_\u001b[0m\u001b[0;34m)\u001b[0m\u001b[0;34m\u001b[0m\u001b[0;34m\u001b[0m\u001b[0m\n\u001b[1;32m      6\u001b[0m \u001b[0mfig\u001b[0m \u001b[0;34m=\u001b[0m \u001b[0mplt\u001b[0m\u001b[0;34m.\u001b[0m\u001b[0mfigure\u001b[0m\u001b[0;34m(\u001b[0m\u001b[0mfigsize\u001b[0m \u001b[0;34m=\u001b[0m \u001b[0;34m(\u001b[0m\u001b[0;36m7\u001b[0m\u001b[0;34m,\u001b[0m\u001b[0;36m7\u001b[0m\u001b[0;34m)\u001b[0m\u001b[0;34m)\u001b[0m\u001b[0;34m\u001b[0m\u001b[0;34m\u001b[0m\u001b[0m\n",
      "\u001b[0;32m/opt/anaconda3/lib/python3.8/site-packages/sklearn/cluster/_kmeans.py\u001b[0m in \u001b[0;36mfit\u001b[0;34m(self, X, y, sample_weight)\u001b[0m\n\u001b[1;32m   1066\u001b[0m         \u001b[0;32mfor\u001b[0m \u001b[0mseed\u001b[0m \u001b[0;32min\u001b[0m \u001b[0mseeds\u001b[0m\u001b[0;34m:\u001b[0m\u001b[0;34m\u001b[0m\u001b[0;34m\u001b[0m\u001b[0m\n\u001b[1;32m   1067\u001b[0m             \u001b[0;31m# run a k-means once\u001b[0m\u001b[0;34m\u001b[0m\u001b[0;34m\u001b[0m\u001b[0;34m\u001b[0m\u001b[0m\n\u001b[0;32m-> 1068\u001b[0;31m             labels, inertia, centers, n_iter_ = kmeans_single(\n\u001b[0m\u001b[1;32m   1069\u001b[0m                 \u001b[0mX\u001b[0m\u001b[0;34m,\u001b[0m \u001b[0msample_weight\u001b[0m\u001b[0;34m,\u001b[0m \u001b[0mself\u001b[0m\u001b[0;34m.\u001b[0m\u001b[0mn_clusters\u001b[0m\u001b[0;34m,\u001b[0m \u001b[0mmax_iter\u001b[0m\u001b[0;34m=\u001b[0m\u001b[0mself\u001b[0m\u001b[0;34m.\u001b[0m\u001b[0mmax_iter\u001b[0m\u001b[0;34m,\u001b[0m\u001b[0;34m\u001b[0m\u001b[0;34m\u001b[0m\u001b[0m\n\u001b[1;32m   1070\u001b[0m                 \u001b[0minit\u001b[0m\u001b[0;34m=\u001b[0m\u001b[0minit\u001b[0m\u001b[0;34m,\u001b[0m \u001b[0mverbose\u001b[0m\u001b[0;34m=\u001b[0m\u001b[0mself\u001b[0m\u001b[0;34m.\u001b[0m\u001b[0mverbose\u001b[0m\u001b[0;34m,\u001b[0m \u001b[0mtol\u001b[0m\u001b[0;34m=\u001b[0m\u001b[0mself\u001b[0m\u001b[0;34m.\u001b[0m\u001b[0m_tol\u001b[0m\u001b[0;34m,\u001b[0m\u001b[0;34m\u001b[0m\u001b[0;34m\u001b[0m\u001b[0m\n",
      "\u001b[0;32m/opt/anaconda3/lib/python3.8/site-packages/sklearn/cluster/_kmeans.py\u001b[0m in \u001b[0;36m_kmeans_single_lloyd\u001b[0;34m(X, sample_weight, n_clusters, max_iter, init, verbose, x_squared_norms, random_state, tol, n_threads)\u001b[0m\n\u001b[1;32m    566\u001b[0m     \u001b[0;31m# Threadpoolctl context to limit the number of threads in second level of\u001b[0m\u001b[0;34m\u001b[0m\u001b[0;34m\u001b[0m\u001b[0;34m\u001b[0m\u001b[0m\n\u001b[1;32m    567\u001b[0m     \u001b[0;31m# nested parallelism (i.e. BLAS) to avoid oversubsciption.\u001b[0m\u001b[0;34m\u001b[0m\u001b[0;34m\u001b[0m\u001b[0;34m\u001b[0m\u001b[0m\n\u001b[0;32m--> 568\u001b[0;31m     \u001b[0;32mwith\u001b[0m \u001b[0mthreadpool_limits\u001b[0m\u001b[0;34m(\u001b[0m\u001b[0mlimits\u001b[0m\u001b[0;34m=\u001b[0m\u001b[0;36m1\u001b[0m\u001b[0;34m,\u001b[0m \u001b[0muser_api\u001b[0m\u001b[0;34m=\u001b[0m\u001b[0;34m\"blas\"\u001b[0m\u001b[0;34m)\u001b[0m\u001b[0;34m:\u001b[0m\u001b[0;34m\u001b[0m\u001b[0;34m\u001b[0m\u001b[0m\n\u001b[0m\u001b[1;32m    569\u001b[0m         \u001b[0;32mfor\u001b[0m \u001b[0mi\u001b[0m \u001b[0;32min\u001b[0m \u001b[0mrange\u001b[0m\u001b[0;34m(\u001b[0m\u001b[0mmax_iter\u001b[0m\u001b[0;34m)\u001b[0m\u001b[0;34m:\u001b[0m\u001b[0;34m\u001b[0m\u001b[0;34m\u001b[0m\u001b[0m\n\u001b[1;32m    570\u001b[0m             lloyd_iter(X, sample_weight, x_squared_norms, centers, centers_new,\n",
      "\u001b[0;32m/opt/anaconda3/lib/python3.8/site-packages/threadpoolctl.py\u001b[0m in \u001b[0;36m__init__\u001b[0;34m(self, limits, user_api)\u001b[0m\n\u001b[1;32m    169\u001b[0m             \u001b[0mself\u001b[0m\u001b[0;34m.\u001b[0m\u001b[0m_check_params\u001b[0m\u001b[0;34m(\u001b[0m\u001b[0mlimits\u001b[0m\u001b[0;34m,\u001b[0m \u001b[0muser_api\u001b[0m\u001b[0;34m)\u001b[0m\u001b[0;34m\u001b[0m\u001b[0;34m\u001b[0m\u001b[0m\n\u001b[1;32m    170\u001b[0m \u001b[0;34m\u001b[0m\u001b[0m\n\u001b[0;32m--> 171\u001b[0;31m         \u001b[0mself\u001b[0m\u001b[0;34m.\u001b[0m\u001b[0m_original_info\u001b[0m \u001b[0;34m=\u001b[0m \u001b[0mself\u001b[0m\u001b[0;34m.\u001b[0m\u001b[0m_set_threadpool_limits\u001b[0m\u001b[0;34m(\u001b[0m\u001b[0;34m)\u001b[0m\u001b[0;34m\u001b[0m\u001b[0;34m\u001b[0m\u001b[0m\n\u001b[0m\u001b[1;32m    172\u001b[0m \u001b[0;34m\u001b[0m\u001b[0m\n\u001b[1;32m    173\u001b[0m     \u001b[0;32mdef\u001b[0m \u001b[0m__enter__\u001b[0m\u001b[0;34m(\u001b[0m\u001b[0mself\u001b[0m\u001b[0;34m)\u001b[0m\u001b[0;34m:\u001b[0m\u001b[0;34m\u001b[0m\u001b[0;34m\u001b[0m\u001b[0m\n",
      "\u001b[0;32m/opt/anaconda3/lib/python3.8/site-packages/threadpoolctl.py\u001b[0m in \u001b[0;36m_set_threadpool_limits\u001b[0;34m(self)\u001b[0m\n\u001b[1;32m    266\u001b[0m             \u001b[0;32mreturn\u001b[0m \u001b[0;32mNone\u001b[0m\u001b[0;34m\u001b[0m\u001b[0;34m\u001b[0m\u001b[0m\n\u001b[1;32m    267\u001b[0m \u001b[0;34m\u001b[0m\u001b[0m\n\u001b[0;32m--> 268\u001b[0;31m         modules = _ThreadpoolInfo(prefixes=self._prefixes,\n\u001b[0m\u001b[1;32m    269\u001b[0m                                   user_api=self._user_api)\n\u001b[1;32m    270\u001b[0m         \u001b[0;32mfor\u001b[0m \u001b[0mmodule\u001b[0m \u001b[0;32min\u001b[0m \u001b[0mmodules\u001b[0m\u001b[0;34m:\u001b[0m\u001b[0;34m\u001b[0m\u001b[0;34m\u001b[0m\u001b[0m\n",
      "\u001b[0;32m/opt/anaconda3/lib/python3.8/site-packages/threadpoolctl.py\u001b[0m in \u001b[0;36m__init__\u001b[0;34m(self, user_api, prefixes, modules)\u001b[0m\n\u001b[1;32m    338\u001b[0m \u001b[0;34m\u001b[0m\u001b[0m\n\u001b[1;32m    339\u001b[0m             \u001b[0mself\u001b[0m\u001b[0;34m.\u001b[0m\u001b[0mmodules\u001b[0m \u001b[0;34m=\u001b[0m \u001b[0;34m[\u001b[0m\u001b[0;34m]\u001b[0m\u001b[0;34m\u001b[0m\u001b[0;34m\u001b[0m\u001b[0m\n\u001b[0;32m--> 340\u001b[0;31m             \u001b[0mself\u001b[0m\u001b[0;34m.\u001b[0m\u001b[0m_load_modules\u001b[0m\u001b[0;34m(\u001b[0m\u001b[0;34m)\u001b[0m\u001b[0;34m\u001b[0m\u001b[0;34m\u001b[0m\u001b[0m\n\u001b[0m\u001b[1;32m    341\u001b[0m             \u001b[0mself\u001b[0m\u001b[0;34m.\u001b[0m\u001b[0m_warn_if_incompatible_openmp\u001b[0m\u001b[0;34m(\u001b[0m\u001b[0;34m)\u001b[0m\u001b[0;34m\u001b[0m\u001b[0;34m\u001b[0m\u001b[0m\n\u001b[1;32m    342\u001b[0m         \u001b[0;32melse\u001b[0m\u001b[0;34m:\u001b[0m\u001b[0;34m\u001b[0m\u001b[0;34m\u001b[0m\u001b[0m\n",
      "\u001b[0;32m/opt/anaconda3/lib/python3.8/site-packages/threadpoolctl.py\u001b[0m in \u001b[0;36m_load_modules\u001b[0;34m(self)\u001b[0m\n\u001b[1;32m    369\u001b[0m         \u001b[0;34m\"\"\"Loop through loaded libraries and store supported ones\"\"\"\u001b[0m\u001b[0;34m\u001b[0m\u001b[0;34m\u001b[0m\u001b[0m\n\u001b[1;32m    370\u001b[0m         \u001b[0;32mif\u001b[0m \u001b[0msys\u001b[0m\u001b[0;34m.\u001b[0m\u001b[0mplatform\u001b[0m \u001b[0;34m==\u001b[0m \u001b[0;34m\"darwin\"\u001b[0m\u001b[0;34m:\u001b[0m\u001b[0;34m\u001b[0m\u001b[0;34m\u001b[0m\u001b[0m\n\u001b[0;32m--> 371\u001b[0;31m             \u001b[0mself\u001b[0m\u001b[0;34m.\u001b[0m\u001b[0m_find_modules_with_dyld\u001b[0m\u001b[0;34m(\u001b[0m\u001b[0;34m)\u001b[0m\u001b[0;34m\u001b[0m\u001b[0;34m\u001b[0m\u001b[0m\n\u001b[0m\u001b[1;32m    372\u001b[0m         \u001b[0;32melif\u001b[0m \u001b[0msys\u001b[0m\u001b[0;34m.\u001b[0m\u001b[0mplatform\u001b[0m \u001b[0;34m==\u001b[0m \u001b[0;34m\"win32\"\u001b[0m\u001b[0;34m:\u001b[0m\u001b[0;34m\u001b[0m\u001b[0;34m\u001b[0m\u001b[0m\n\u001b[1;32m    373\u001b[0m             \u001b[0mself\u001b[0m\u001b[0;34m.\u001b[0m\u001b[0m_find_modules_with_enum_process_module_ex\u001b[0m\u001b[0;34m(\u001b[0m\u001b[0;34m)\u001b[0m\u001b[0;34m\u001b[0m\u001b[0;34m\u001b[0m\u001b[0m\n",
      "\u001b[0;32m/opt/anaconda3/lib/python3.8/site-packages/threadpoolctl.py\u001b[0m in \u001b[0;36m_find_modules_with_dyld\u001b[0;34m(self)\u001b[0m\n\u001b[1;32m    426\u001b[0m \u001b[0;34m\u001b[0m\u001b[0m\n\u001b[1;32m    427\u001b[0m             \u001b[0;31m# Store the module if it is supported and selected\u001b[0m\u001b[0;34m\u001b[0m\u001b[0;34m\u001b[0m\u001b[0;34m\u001b[0m\u001b[0m\n\u001b[0;32m--> 428\u001b[0;31m             \u001b[0mself\u001b[0m\u001b[0;34m.\u001b[0m\u001b[0m_make_module_from_path\u001b[0m\u001b[0;34m(\u001b[0m\u001b[0mfilepath\u001b[0m\u001b[0;34m)\u001b[0m\u001b[0;34m\u001b[0m\u001b[0;34m\u001b[0m\u001b[0m\n\u001b[0m\u001b[1;32m    429\u001b[0m \u001b[0;34m\u001b[0m\u001b[0m\n\u001b[1;32m    430\u001b[0m     \u001b[0;32mdef\u001b[0m \u001b[0m_find_modules_with_enum_process_module_ex\u001b[0m\u001b[0;34m(\u001b[0m\u001b[0mself\u001b[0m\u001b[0;34m)\u001b[0m\u001b[0;34m:\u001b[0m\u001b[0;34m\u001b[0m\u001b[0;34m\u001b[0m\u001b[0m\n",
      "\u001b[0;32m/opt/anaconda3/lib/python3.8/site-packages/threadpoolctl.py\u001b[0m in \u001b[0;36m_make_module_from_path\u001b[0;34m(self, filepath)\u001b[0m\n\u001b[1;32m    513\u001b[0m             \u001b[0;32mif\u001b[0m \u001b[0mprefix\u001b[0m \u001b[0;32min\u001b[0m \u001b[0mself\u001b[0m\u001b[0;34m.\u001b[0m\u001b[0mprefixes\u001b[0m \u001b[0;32mor\u001b[0m \u001b[0muser_api\u001b[0m \u001b[0;32min\u001b[0m \u001b[0mself\u001b[0m\u001b[0;34m.\u001b[0m\u001b[0muser_api\u001b[0m\u001b[0;34m:\u001b[0m\u001b[0;34m\u001b[0m\u001b[0;34m\u001b[0m\u001b[0m\n\u001b[1;32m    514\u001b[0m                 \u001b[0mmodule_class\u001b[0m \u001b[0;34m=\u001b[0m \u001b[0mglobals\u001b[0m\u001b[0;34m(\u001b[0m\u001b[0;34m)\u001b[0m\u001b[0;34m[\u001b[0m\u001b[0mmodule_class\u001b[0m\u001b[0;34m]\u001b[0m\u001b[0;34m\u001b[0m\u001b[0;34m\u001b[0m\u001b[0m\n\u001b[0;32m--> 515\u001b[0;31m                 \u001b[0mmodule\u001b[0m \u001b[0;34m=\u001b[0m \u001b[0mmodule_class\u001b[0m\u001b[0;34m(\u001b[0m\u001b[0mfilepath\u001b[0m\u001b[0;34m,\u001b[0m \u001b[0mprefix\u001b[0m\u001b[0;34m,\u001b[0m \u001b[0muser_api\u001b[0m\u001b[0;34m,\u001b[0m \u001b[0minternal_api\u001b[0m\u001b[0;34m)\u001b[0m\u001b[0;34m\u001b[0m\u001b[0;34m\u001b[0m\u001b[0m\n\u001b[0m\u001b[1;32m    516\u001b[0m                 \u001b[0mself\u001b[0m\u001b[0;34m.\u001b[0m\u001b[0mmodules\u001b[0m\u001b[0;34m.\u001b[0m\u001b[0mappend\u001b[0m\u001b[0;34m(\u001b[0m\u001b[0mmodule\u001b[0m\u001b[0;34m)\u001b[0m\u001b[0;34m\u001b[0m\u001b[0;34m\u001b[0m\u001b[0m\n\u001b[1;32m    517\u001b[0m \u001b[0;34m\u001b[0m\u001b[0m\n",
      "\u001b[0;32m/opt/anaconda3/lib/python3.8/site-packages/threadpoolctl.py\u001b[0m in \u001b[0;36m__init__\u001b[0;34m(self, filepath, prefix, user_api, internal_api)\u001b[0m\n\u001b[1;32m    603\u001b[0m         \u001b[0mself\u001b[0m\u001b[0;34m.\u001b[0m\u001b[0muser_api\u001b[0m \u001b[0;34m=\u001b[0m \u001b[0muser_api\u001b[0m\u001b[0;34m\u001b[0m\u001b[0;34m\u001b[0m\u001b[0m\n\u001b[1;32m    604\u001b[0m         \u001b[0mself\u001b[0m\u001b[0;34m.\u001b[0m\u001b[0minternal_api\u001b[0m \u001b[0;34m=\u001b[0m \u001b[0minternal_api\u001b[0m\u001b[0;34m\u001b[0m\u001b[0;34m\u001b[0m\u001b[0m\n\u001b[0;32m--> 605\u001b[0;31m         \u001b[0mself\u001b[0m\u001b[0;34m.\u001b[0m\u001b[0m_dynlib\u001b[0m \u001b[0;34m=\u001b[0m \u001b[0mctypes\u001b[0m\u001b[0;34m.\u001b[0m\u001b[0mCDLL\u001b[0m\u001b[0;34m(\u001b[0m\u001b[0mfilepath\u001b[0m\u001b[0;34m,\u001b[0m \u001b[0mmode\u001b[0m\u001b[0;34m=\u001b[0m\u001b[0m_RTLD_NOLOAD\u001b[0m\u001b[0;34m)\u001b[0m\u001b[0;34m\u001b[0m\u001b[0;34m\u001b[0m\u001b[0m\n\u001b[0m\u001b[1;32m    606\u001b[0m         \u001b[0mself\u001b[0m\u001b[0;34m.\u001b[0m\u001b[0mversion\u001b[0m \u001b[0;34m=\u001b[0m \u001b[0mself\u001b[0m\u001b[0;34m.\u001b[0m\u001b[0mget_version\u001b[0m\u001b[0;34m(\u001b[0m\u001b[0;34m)\u001b[0m\u001b[0;34m\u001b[0m\u001b[0;34m\u001b[0m\u001b[0m\n\u001b[1;32m    607\u001b[0m         \u001b[0mself\u001b[0m\u001b[0;34m.\u001b[0m\u001b[0mnum_threads\u001b[0m \u001b[0;34m=\u001b[0m \u001b[0mself\u001b[0m\u001b[0;34m.\u001b[0m\u001b[0mget_num_threads\u001b[0m\u001b[0;34m(\u001b[0m\u001b[0;34m)\u001b[0m\u001b[0;34m\u001b[0m\u001b[0;34m\u001b[0m\u001b[0m\n",
      "\u001b[0;32m/opt/anaconda3/lib/python3.8/ctypes/__init__.py\u001b[0m in \u001b[0;36m__init__\u001b[0;34m(self, name, mode, handle, use_errno, use_last_error, winmode)\u001b[0m\n\u001b[1;32m    379\u001b[0m \u001b[0;34m\u001b[0m\u001b[0m\n\u001b[1;32m    380\u001b[0m         \u001b[0;32mif\u001b[0m \u001b[0mhandle\u001b[0m \u001b[0;32mis\u001b[0m \u001b[0;32mNone\u001b[0m\u001b[0;34m:\u001b[0m\u001b[0;34m\u001b[0m\u001b[0;34m\u001b[0m\u001b[0m\n\u001b[0;32m--> 381\u001b[0;31m             \u001b[0mself\u001b[0m\u001b[0;34m.\u001b[0m\u001b[0m_handle\u001b[0m \u001b[0;34m=\u001b[0m \u001b[0m_dlopen\u001b[0m\u001b[0;34m(\u001b[0m\u001b[0mself\u001b[0m\u001b[0;34m.\u001b[0m\u001b[0m_name\u001b[0m\u001b[0;34m,\u001b[0m \u001b[0mmode\u001b[0m\u001b[0;34m)\u001b[0m\u001b[0;34m\u001b[0m\u001b[0;34m\u001b[0m\u001b[0m\n\u001b[0m\u001b[1;32m    382\u001b[0m         \u001b[0;32melse\u001b[0m\u001b[0;34m:\u001b[0m\u001b[0;34m\u001b[0m\u001b[0;34m\u001b[0m\u001b[0m\n\u001b[1;32m    383\u001b[0m             \u001b[0mself\u001b[0m\u001b[0;34m.\u001b[0m\u001b[0m_handle\u001b[0m \u001b[0;34m=\u001b[0m \u001b[0mhandle\u001b[0m\u001b[0;34m\u001b[0m\u001b[0;34m\u001b[0m\u001b[0m\n",
      "\u001b[0;31mOSError\u001b[0m: image not already loaded"
     ]
    }
   ],
   "source": [
    "WCSS = []\n",
    "for i in range(1,11):\n",
    "    model = KMeans(n_clusters = i,init = 'k-means++')\n",
    "    model.fit(x)\n",
    "    WCSS.append(model.inertia_)\n",
    "fig = plt.figure(figsize = (7,7))\n",
    "plt.plot(range(1,11),WCSS, linewidth=4, markersize=12,marker='o',color = 'green')\n",
    "plt.xticks(np.arange(11))\n",
    "plt.xlabel(\"Number of clusters\")\n",
    "plt.ylabel(\"WCSS\")\n",
    "plt.show()"
   ]
  },
  {
   "cell_type": "code",
   "execution_count": 44,
   "metadata": {},
   "outputs": [],
   "source": [
    "model = KMeans(n_clusters = 2, init = \"k-means++\", max_iter = 300, n_init = 10, random_state = 0)\n",
    "y_clusters = model.fit_predict(x)"
   ]
  },
  {
   "cell_type": "code",
   "execution_count": 10,
   "metadata": {},
   "outputs": [
    {
     "data": {
      "image/png": "[encoded data removed]",
      "text/plain": [
       "<Figure size 1440x720 with 1 Axes>"
      ]
     },
     "metadata": {
      "needs_background": "light"
     },
     "output_type": "display_data"
    }
   ],
   "source": [
    "plt.figure(figsize = (20,10))\n",
    "plt.scatter(x[y_clusters == 0,0],x[y_clusters == 0,1],s = 50, c = 'red', label = \"Video\")\n",
    "plt.scatter(x[y_clusters == 1,0],x[y_clusters == 1,1],s = 50, c = 'blue', label = \"Not_video\")\n",
    "plt.scatter(model.cluster_centers_[:,0],model.cluster_centers_[:,1], s = 100, c = \"yellow\", label = \"centroids\")\n",
    "plt.xlabel(\"Proto\")\n",
    "plt.ylabel(\"Sample\")\n",
    "plt.legend()\n",
    "plt.show()"
   ]
  },
  {
   "cell_type": "code",
   "execution_count": 11,
   "metadata": {},
   "outputs": [],
   "source": [
    "x = df[['src_port','proto','flowDuration']].values"
   ]
  },
  {
   "cell_type": "code",
   "execution_count": 12,
   "metadata": {},
   "outputs": [
    {
     "data": {
      "image/png": "[encoded data removed]",
      "text/plain": [
       "<Figure size 504x504 with 1 Axes>"
      ]
     },
     "metadata": {
      "needs_background": "light"
     },
     "output_type": "display_data"
    }
   ],
   "source": [
    "WCSS = []\n",
    "for i in range(1,11):\n",
    "    model = KMeans(n_clusters = i,init = 'k-means++')\n",
    "    model.fit(x)\n",
    "    WCSS.append(model.inertia_)\n",
    "fig = plt.figure(figsize = (7,7))\n",
    "plt.plot(range(1,11),WCSS, linewidth=4, markersize=12,marker='o',color = 'red')\n",
    "plt.xticks(np.arange(11))\n",
    "plt.xlabel(\"Number of clusters\")\n",
    "plt.ylabel(\"WCSS\")\n",
    "plt.show()"
   ]
  },
  {
   "cell_type": "code",
   "execution_count": 13,
   "metadata": {},
   "outputs": [],
   "source": [
    "model = KMeans(n_clusters = 2, init = \"k-means++\", max_iter = 300, n_init = 10, random_state = 0)\n",
    "y_clusters = model.fit_predict(x)"
   ]
  },
  {
   "cell_type": "code",
   "execution_count": 14,
   "metadata": {},
   "outputs": [
    {
     "name": "stderr",
     "output_type": "stream",
     "text": [
      "/opt/anaconda3/lib/python3.8/site-packages/seaborn/_decorators.py:36: FutureWarning:\n",
      "\n",
      "Pass the following variable as a keyword arg: x. From version 0.12, the only valid positional argument will be `data`, and passing other arguments without an explicit keyword will result in an error or misinterpretation.\n",
      "\n"
     ]
    },
    {
     "data": {
      "text/plain": [
       "<AxesSubplot:ylabel='count'>"
      ]
     },
     "execution_count": 14,
     "metadata": {},
     "output_type": "execute_result"
    },
    {
     "data": {
      "image/png": "[encoded data removed]",
      "text/plain": [
       "<Figure size 432x288 with 1 Axes>"
      ]
     },
     "metadata": {
      "needs_background": "light"
     },
     "output_type": "display_data"
    }
   ],
   "source": [
    "sns.countplot(y_clusters)"
   ]
  },
  {
   "cell_type": "code",
   "execution_count": 15,
   "metadata": {},
   "outputs": [
    {
     "name": "stdout",
     "output_type": "stream",
     "text": [
      "80.0\n",
      "6.0\n",
      "1433.0325009822845\n"
     ]
    }
   ],
   "source": [
    "print(x[y_clusters == 0,0][1])\n",
    "print(x[y_clusters == 0,1][1])\n",
    "print(x[y_clusters == 0,2][1])"
   ]
  },
  {
   "cell_type": "code",
   "execution_count": 16,
   "metadata": {},
   "outputs": [
    {
     "data": {
      "image/png": "[encoded data removed]",
      "text/plain": [
       "<Figure size 1080x1080 with 1 Axes>"
      ]
     },
     "metadata": {
      "needs_background": "light"
     },
     "output_type": "display_data"
    }
   ],
   "source": [
    "fig = plt.figure(figsize = (15,15))\n",
    "ax = fig.add_subplot(111, projection='3d')\n",
    "ax.scatter(x[y_clusters == 0,0],x[y_clusters == 0,1],x[y_clusters == 0,2], s = 40 , color = 'blue', label = \"Video\")\n",
    "ax.scatter(x[y_clusters == 1,0],x[y_clusters == 1,1],x[y_clusters == 1,2], s = 40 , color = 'red', label = \"Not_Video\")\n",
    "ax.set_xlabel('src_port')\n",
    "ax.set_ylabel('proto')\n",
    "ax.set_zlabel('flowDuration')\n",
    "ax.legend()\n",
    "plt.show()"
   ]
  },
  {
   "cell_type": "code",
   "execution_count": 17,
   "metadata": {},
   "outputs": [],
   "source": [
    "labels = model.labels_"
   ]
  },
  {
   "cell_type": "code",
   "execution_count": 18,
   "metadata": {},
   "outputs": [
    {
     "name": "stdout",
     "output_type": "stream",
     "text": [
      "[0 1 0 1 1 0 1 1 0 0 0 1 1 1 1 0 0 0 1 0 1 0 1 0 1 1 0 1 0 1 0 1 0 1 1 1 0\n",
      " 0 1 0 0 0 1 0 1 0 1 0 1 1 0 0 1 0 0 1 1 0 1 0 0 1 0 1 0 1 0 0 1 0 1 0 0 1\n",
      " 1 0 1 0 1 0 1 0 0 0 1 0 1 1 0 1 1 0 0 1 0 1 1 0 0 1 0 1 0 1 0 1 0 1 0 1 0\n",
      " 1 1 1 1 0 0 0 0 1 1 0 0 1 1 0 0 1 0 1 1 0 0 1 0 1 0 1 1 1 1 1 1 0 0 0 1 0\n",
      " 0 1 0 0 1 0 0 1 1 0 0 1 0 1 1 1 1 0 0 1 0 0 0 1 0 1 0 1 0 1 0 1 0 1 0 1 0\n",
      " 1 0 1 1 0 0 1 0 1 0 1 0 1 0 1 0 1 0 1 0 1 0 1 1 0 0 1 0 1 1 0 0 1 0 1 1 0\n",
      " 0 1 0 0 1 1 0 1 0 1 0 1 1 0 0 1 0 1 1 1 1 0 0 1 0 0 1 0 0 1 0 1 1 1 1 0 0\n",
      " 1 0 0 1 0 0 1 1 0 0 1 0 1 1 1 0 0 0 1 0 1 0 1 0 1 0 1 1 0 0 1 0 0 1 0 1 0\n",
      " 1 1 0 0 1 0 1 1 0 0 1 0 1 0 1 0 1 0 1 1 1 0 0 1 0 1 0 1 0 1 0 1 0 1 0 1 1\n",
      " 0 0 1 0 1 0 1 0 1 0 1 0 1 0 1 0 1 0 1 0 1 0 1 1 0 0 1 0 1 1 0 1 0 1 0 0 1\n",
      " 1 1 0 0 1 0 1 0 1 0 1 0 1 0 1 0 1 0 1 0 1 0 1 1 0 0 1 0 1 0 1 0 1 0 1 0 1\n",
      " 0 1 0 1 1 0 0 1 1 0 1 1 0 1 1 0 0 0 0 1 1 0 1 0 0 1 1 1 1 0 0 1 0 0 1 0 0\n",
      " 1 0 1 1 0 0 1 0 1 1 0 0 1 0 1 1 0 0 1 0 1 1 0 0 1 0 1 1 0 0 1 1 1 0 0 0 1\n",
      " 0 1 0 1 1 0 0 1 0 1 1 0 0 1 0 1 0 1 0 1 1 1 0 0 0 1 0 1 1 1 1 0 0 1 0 1 0\n",
      " 0 0 1 0 1 0 1 1 0 1 0 1 0 1 0 1 0 1 0 1 0 1 0 1 0 1 0 1 0 1 0 1 0 1 0 1 0\n",
      " 1 1 0 0 1 0 1 0 1 1 0 0 1 0 1 1 0 0 1 0 1 0]\n"
     ]
    }
   ],
   "source": [
    "print(labels)"
   ]
  },
  {
   "cell_type": "code",
   "execution_count": 19,
   "metadata": {},
   "outputs": [],
   "source": [
    "df = pd.read_csv(\"results.csv\")"
   ]
  },
  {
   "cell_type": "code",
   "execution_count": 20,
   "metadata": {},
   "outputs": [],
   "source": [
    "df[\"new_column\"] = labels"
   ]
  },
  {
   "cell_type": "code",
   "execution_count": 21,
   "metadata": {},
   "outputs": [
    {
     "data": {
      "text/html": [
       "<div>\n",
       "<style scoped>\n",
       "    .dataframe tbody tr th:only-of-type {\n",
       "        vertical-align: middle;\n",
       "    }\n",
       "\n",
       "    .dataframe tbody tr th {\n",
       "        vertical-align: top;\n",
       "    }\n",
       "\n",
       "    .dataframe thead th {\n",
       "        text-align: right;\n",
       "    }\n",
       "</style>\n",
       "<table border=\"1\" class=\"dataframe\">\n",
       "  <thead>\n",
       "    <tr style=\"text-align: right;\">\n",
       "      <th></th>\n",
       "      <th>src_ip</th>\n",
       "      <th>src_port</th>\n",
       "      <th>dst_ip</th>\n",
       "      <th>dst_port</th>\n",
       "      <th>proto</th>\n",
       "      <th>pktTotalCount</th>\n",
       "      <th>octetTotalCount</th>\n",
       "      <th>min_ps</th>\n",
       "      <th>max_ps</th>\n",
       "      <th>avg_ps</th>\n",
       "      <th>std_dev_ps</th>\n",
       "      <th>flowStart</th>\n",
       "      <th>flowEnd</th>\n",
       "      <th>flowDuration</th>\n",
       "      <th>min_piat</th>\n",
       "      <th>max_piat</th>\n",
       "      <th>avg_piat</th>\n",
       "      <th>std_dev_piat</th>\n",
       "      <th>new_column</th>\n",
       "    </tr>\n",
       "  </thead>\n",
       "  <tbody>\n",
       "    <tr>\n",
       "      <th>0</th>\n",
       "      <td>172.217.12.170</td>\n",
       "      <td>443</td>\n",
       "      <td>192.168.8.219</td>\n",
       "      <td>55530</td>\n",
       "      <td>6</td>\n",
       "      <td>51</td>\n",
       "      <td>4335</td>\n",
       "      <td>85</td>\n",
       "      <td>85</td>\n",
       "      <td>85.000000</td>\n",
       "      <td>0.000000</td>\n",
       "      <td>1.593452e+09</td>\n",
       "      <td>1.593453e+09</td>\n",
       "      <td>1440.048191</td>\n",
       "      <td>9.012222e-05</td>\n",
       "      <td>30.306676</td>\n",
       "      <td>28.800964</td>\n",
       "      <td>5.879810</td>\n",
       "      <td>0</td>\n",
       "    </tr>\n",
       "    <tr>\n",
       "      <th>1</th>\n",
       "      <td>192.168.8.219</td>\n",
       "      <td>55530</td>\n",
       "      <td>172.217.12.170</td>\n",
       "      <td>443</td>\n",
       "      <td>6</td>\n",
       "      <td>51</td>\n",
       "      <td>2676</td>\n",
       "      <td>52</td>\n",
       "      <td>64</td>\n",
       "      <td>52.470588</td>\n",
       "      <td>2.329293</td>\n",
       "      <td>1.593452e+09</td>\n",
       "      <td>1.593453e+09</td>\n",
       "      <td>1440.048191</td>\n",
       "      <td>7.390976e-05</td>\n",
       "      <td>30.306626</td>\n",
       "      <td>28.800964</td>\n",
       "      <td>5.879813</td>\n",
       "      <td>1</td>\n",
       "    </tr>\n",
       "    <tr>\n",
       "      <th>2</th>\n",
       "      <td>77.234.46.106</td>\n",
       "      <td>80</td>\n",
       "      <td>192.168.8.219</td>\n",
       "      <td>55557</td>\n",
       "      <td>6</td>\n",
       "      <td>66</td>\n",
       "      <td>20066</td>\n",
       "      <td>52</td>\n",
       "      <td>1500</td>\n",
       "      <td>304.030303</td>\n",
       "      <td>474.175807</td>\n",
       "      <td>1.593452e+09</td>\n",
       "      <td>1.593453e+09</td>\n",
       "      <td>1433.032501</td>\n",
       "      <td>1.127720e-04</td>\n",
       "      <td>45.622300</td>\n",
       "      <td>22.046654</td>\n",
       "      <td>21.045142</td>\n",
       "      <td>0</td>\n",
       "    </tr>\n",
       "    <tr>\n",
       "      <th>3</th>\n",
       "      <td>192.168.8.219</td>\n",
       "      <td>55557</td>\n",
       "      <td>77.234.46.106</td>\n",
       "      <td>80</td>\n",
       "      <td>6</td>\n",
       "      <td>62</td>\n",
       "      <td>6468</td>\n",
       "      <td>40</td>\n",
       "      <td>306</td>\n",
       "      <td>104.322581</td>\n",
       "      <td>109.045237</td>\n",
       "      <td>1.593452e+09</td>\n",
       "      <td>1.593453e+09</td>\n",
       "      <td>1433.012500</td>\n",
       "      <td>3.488064e-04</td>\n",
       "      <td>45.611806</td>\n",
       "      <td>23.492008</td>\n",
       "      <td>20.931158</td>\n",
       "      <td>1</td>\n",
       "    </tr>\n",
       "    <tr>\n",
       "      <th>4</th>\n",
       "      <td>192.168.8.219</td>\n",
       "      <td>57580</td>\n",
       "      <td>104.16.122.127</td>\n",
       "      <td>443</td>\n",
       "      <td>6</td>\n",
       "      <td>8</td>\n",
       "      <td>344</td>\n",
       "      <td>40</td>\n",
       "      <td>64</td>\n",
       "      <td>43.000000</td>\n",
       "      <td>7.937254</td>\n",
       "      <td>1.593452e+09</td>\n",
       "      <td>1.593452e+09</td>\n",
       "      <td>91.506789</td>\n",
       "      <td>9.536743e-07</td>\n",
       "      <td>45.224904</td>\n",
       "      <td>13.072398</td>\n",
       "      <td>20.310847</td>\n",
       "      <td>1</td>\n",
       "    </tr>\n",
       "  </tbody>\n",
       "</table>\n",
       "</div>"
      ],
      "text/plain": [
       "           src_ip  src_port          dst_ip  dst_port  proto  pktTotalCount  \\\n",
       "0  172.217.12.170       443   192.168.8.219     55530      6             51   \n",
       "1   192.168.8.219     55530  172.217.12.170       443      6             51   \n",
       "2   77.234.46.106        80   192.168.8.219     55557      6             66   \n",
       "3   192.168.8.219     55557   77.234.46.106        80      6             62   \n",
       "4   192.168.8.219     57580  104.16.122.127       443      6              8   \n",
       "\n",
       "   octetTotalCount  min_ps  max_ps      avg_ps  std_dev_ps     flowStart  \\\n",
       "0             4335      85      85   85.000000    0.000000  1.593452e+09   \n",
       "1             2676      52      64   52.470588    2.329293  1.593452e+09   \n",
       "2            20066      52    1500  304.030303  474.175807  1.593452e+09   \n",
       "3             6468      40     306  104.322581  109.045237  1.593452e+09   \n",
       "4              344      40      64   43.000000    7.937254  1.593452e+09   \n",
       "\n",
       "        flowEnd  flowDuration      min_piat   max_piat   avg_piat  \\\n",
       "0  1.593453e+09   1440.048191  9.012222e-05  30.306676  28.800964   \n",
       "1  1.593453e+09   1440.048191  7.390976e-05  30.306626  28.800964   \n",
       "2  1.593453e+09   1433.032501  1.127720e-04  45.622300  22.046654   \n",
       "3  1.593453e+09   1433.012500  3.488064e-04  45.611806  23.492008   \n",
       "4  1.593452e+09     91.506789  9.536743e-07  45.224904  13.072398   \n",
       "\n",
       "   std_dev_piat  new_column  \n",
       "0      5.879810           0  \n",
       "1      5.879813           1  \n",
       "2     21.045142           0  \n",
       "3     20.931158           1  \n",
       "4     20.310847           1  "
      ]
     },
     "execution_count": 21,
     "metadata": {},
     "output_type": "execute_result"
    }
   ],
   "source": [
    "df.head()"
   ]
  },
  {
   "cell_type": "code",
   "execution_count": 22,
   "metadata": {},
   "outputs": [],
   "source": [
    "\n",
    "predicted_labels = model.labels_\n",
    "from sklearn.metrics import confusion_matrix\n",
    "\n",
    "cm = confusion_matrix(labels, predicted_labels)"
   ]
  },
  {
   "cell_type": "code",
   "execution_count": 23,
   "metadata": {},
   "outputs": [
    {
     "data": {
      "image/png": "[encoded data removed]",
      "text/plain": [
       "<Figure size 432x288 with 2 Axes>"
      ]
     },
     "metadata": {},
     "output_type": "display_data"
    }
   ],
   "source": [
    "import seaborn as sns; sns.set()\n",
    "\n",
    "ax = sns.heatmap(cm, annot=True, fmt=\"d\", cmap=\"Blues\")"
   ]
  },
  {
   "cell_type": "code",
   "execution_count": 24,
   "metadata": {},
   "outputs": [],
   "source": [
    "import scipy\n",
    "from scipy.optimize import linear_sum_assignment as linear_assignment\n",
    "import numpy as np"
   ]
  },
  {
   "cell_type": "code",
   "execution_count": 25,
   "metadata": {},
   "outputs": [],
   "source": [
    "def _make_cost_m(cm):\n",
    "    s = np.max(cm)\n",
    "    return (- cm + s)\n",
    "\n",
    "indexes = scipy.optimize.linear_sum_assignment(_make_cost_m(cm))\n",
    "js = [e[1] for e in sorted(indexes, key=lambda x: x[0])]\n",
    "cm2 = cm[:, js]"
   ]
  },
  {
   "cell_type": "code",
   "execution_count": 26,
   "metadata": {},
   "outputs": [
    {
     "name": "stderr",
     "output_type": "stream",
     "text": [
      "/opt/anaconda3/lib/python3.8/site-packages/sklearn/utils/deprecation.py:143: FutureWarning:\n",
      "\n",
      "The sklearn.metrics.classification module is  deprecated in version 0.22 and will be removed in version 0.24. The corresponding classes / functions should instead be imported from sklearn.metrics. Anything that cannot be imported from sklearn.metrics is now part of the private API.\n",
      "\n"
     ]
    },
    {
     "data": {
      "text/plain": [
       "1.0"
      ]
     },
     "execution_count": 26,
     "metadata": {},
     "output_type": "execute_result"
    }
   ],
   "source": [
    "from sklearn.metrics.classification import accuracy_score\n",
    "\n",
    "accuracy_score(labels, predicted_labels)"
   ]
  },
  {
   "cell_type": "code",
   "execution_count": 27,
   "metadata": {},
   "outputs": [],
   "source": [
    "import pandas as pd"
   ]
  },
  {
   "cell_type": "code",
   "execution_count": 28,
   "metadata": {},
   "outputs": [
    {
     "data": {
      "text/plain": [
       "array([0, 1], dtype=int32)"
      ]
     },
     "execution_count": 28,
     "metadata": {},
     "output_type": "execute_result"
    }
   ],
   "source": [
    "df['new_column'].unique()"
   ]
  },
  {
   "cell_type": "code",
   "execution_count": 29,
   "metadata": {},
   "outputs": [],
   "source": [
    "from sklearn.model_selection import train_test_split"
   ]
  },
  {
   "cell_type": "code",
   "execution_count": 30,
   "metadata": {},
   "outputs": [],
   "source": [
    "x_data = df.drop('new_column',axis=1)"
   ]
  },
  {
   "cell_type": "code",
   "execution_count": 31,
   "metadata": {},
   "outputs": [],
   "source": [
    "labels = df['new_column']"
   ]
  },
  {
   "cell_type": "code",
   "execution_count": 32,
   "metadata": {},
   "outputs": [],
   "source": [
    "X_train, X_test, y_train, y_test = train_test_split(x_data,labels,test_size=0.3,random_state=101)"
   ]
  },
  {
   "cell_type": "code",
   "execution_count": 33,
   "metadata": {},
   "outputs": [
    {
     "data": {
      "text/plain": [
       "Index(['src_ip', 'src_port', 'dst_ip', 'dst_port', 'proto', 'pktTotalCount',\n",
       "       'octetTotalCount', 'min_ps', 'max_ps', 'avg_ps', 'std_dev_ps',\n",
       "       'flowStart', 'flowEnd', 'flowDuration', 'min_piat', 'max_piat',\n",
       "       'avg_piat', 'std_dev_piat', 'new_column'],\n",
       "      dtype='object')"
      ]
     },
     "execution_count": 33,
     "metadata": {},
     "output_type": "execute_result"
    }
   ],
   "source": [
    "df.columns"
   ]
  },
  {
   "cell_type": "code",
   "execution_count": 34,
   "metadata": {},
   "outputs": [],
   "source": [
    "import tensorflow as tf"
   ]
  },
  {
   "cell_type": "code",
   "execution_count": 35,
   "metadata": {},
   "outputs": [
    {
     "data": {
      "text/html": [
       "<div>\n",
       "<style scoped>\n",
       "    .dataframe tbody tr th:only-of-type {\n",
       "        vertical-align: middle;\n",
       "    }\n",
       "\n",
       "    .dataframe tbody tr th {\n",
       "        vertical-align: top;\n",
       "    }\n",
       "\n",
       "    .dataframe thead th {\n",
       "        text-align: right;\n",
       "    }\n",
       "</style>\n",
       "<table border=\"1\" class=\"dataframe\">\n",
       "  <thead>\n",
       "    <tr style=\"text-align: right;\">\n",
       "      <th></th>\n",
       "      <th>src_ip</th>\n",
       "      <th>src_port</th>\n",
       "      <th>dst_ip</th>\n",
       "      <th>dst_port</th>\n",
       "      <th>proto</th>\n",
       "      <th>pktTotalCount</th>\n",
       "      <th>octetTotalCount</th>\n",
       "      <th>min_ps</th>\n",
       "      <th>max_ps</th>\n",
       "      <th>avg_ps</th>\n",
       "      <th>std_dev_ps</th>\n",
       "      <th>flowStart</th>\n",
       "      <th>flowEnd</th>\n",
       "      <th>flowDuration</th>\n",
       "      <th>min_piat</th>\n",
       "      <th>max_piat</th>\n",
       "      <th>avg_piat</th>\n",
       "      <th>std_dev_piat</th>\n",
       "      <th>new_column</th>\n",
       "    </tr>\n",
       "  </thead>\n",
       "  <tbody>\n",
       "    <tr>\n",
       "      <th>0</th>\n",
       "      <td>172.217.12.170</td>\n",
       "      <td>443</td>\n",
       "      <td>192.168.8.219</td>\n",
       "      <td>55530</td>\n",
       "      <td>6</td>\n",
       "      <td>51</td>\n",
       "      <td>4335</td>\n",
       "      <td>85</td>\n",
       "      <td>85</td>\n",
       "      <td>85.000000</td>\n",
       "      <td>0.000000</td>\n",
       "      <td>1.593452e+09</td>\n",
       "      <td>1.593453e+09</td>\n",
       "      <td>1440.048191</td>\n",
       "      <td>9.012222e-05</td>\n",
       "      <td>30.306676</td>\n",
       "      <td>28.800964</td>\n",
       "      <td>5.879810</td>\n",
       "      <td>0</td>\n",
       "    </tr>\n",
       "    <tr>\n",
       "      <th>1</th>\n",
       "      <td>192.168.8.219</td>\n",
       "      <td>55530</td>\n",
       "      <td>172.217.12.170</td>\n",
       "      <td>443</td>\n",
       "      <td>6</td>\n",
       "      <td>51</td>\n",
       "      <td>2676</td>\n",
       "      <td>52</td>\n",
       "      <td>64</td>\n",
       "      <td>52.470588</td>\n",
       "      <td>2.329293</td>\n",
       "      <td>1.593452e+09</td>\n",
       "      <td>1.593453e+09</td>\n",
       "      <td>1440.048191</td>\n",
       "      <td>7.390976e-05</td>\n",
       "      <td>30.306626</td>\n",
       "      <td>28.800964</td>\n",
       "      <td>5.879813</td>\n",
       "      <td>1</td>\n",
       "    </tr>\n",
       "    <tr>\n",
       "      <th>2</th>\n",
       "      <td>77.234.46.106</td>\n",
       "      <td>80</td>\n",
       "      <td>192.168.8.219</td>\n",
       "      <td>55557</td>\n",
       "      <td>6</td>\n",
       "      <td>66</td>\n",
       "      <td>20066</td>\n",
       "      <td>52</td>\n",
       "      <td>1500</td>\n",
       "      <td>304.030303</td>\n",
       "      <td>474.175807</td>\n",
       "      <td>1.593452e+09</td>\n",
       "      <td>1.593453e+09</td>\n",
       "      <td>1433.032501</td>\n",
       "      <td>1.127720e-04</td>\n",
       "      <td>45.622300</td>\n",
       "      <td>22.046654</td>\n",
       "      <td>21.045142</td>\n",
       "      <td>0</td>\n",
       "    </tr>\n",
       "    <tr>\n",
       "      <th>3</th>\n",
       "      <td>192.168.8.219</td>\n",
       "      <td>55557</td>\n",
       "      <td>77.234.46.106</td>\n",
       "      <td>80</td>\n",
       "      <td>6</td>\n",
       "      <td>62</td>\n",
       "      <td>6468</td>\n",
       "      <td>40</td>\n",
       "      <td>306</td>\n",
       "      <td>104.322581</td>\n",
       "      <td>109.045237</td>\n",
       "      <td>1.593452e+09</td>\n",
       "      <td>1.593453e+09</td>\n",
       "      <td>1433.012500</td>\n",
       "      <td>3.488064e-04</td>\n",
       "      <td>45.611806</td>\n",
       "      <td>23.492008</td>\n",
       "      <td>20.931158</td>\n",
       "      <td>1</td>\n",
       "    </tr>\n",
       "    <tr>\n",
       "      <th>4</th>\n",
       "      <td>192.168.8.219</td>\n",
       "      <td>57580</td>\n",
       "      <td>104.16.122.127</td>\n",
       "      <td>443</td>\n",
       "      <td>6</td>\n",
       "      <td>8</td>\n",
       "      <td>344</td>\n",
       "      <td>40</td>\n",
       "      <td>64</td>\n",
       "      <td>43.000000</td>\n",
       "      <td>7.937254</td>\n",
       "      <td>1.593452e+09</td>\n",
       "      <td>1.593452e+09</td>\n",
       "      <td>91.506789</td>\n",
       "      <td>9.536743e-07</td>\n",
       "      <td>45.224904</td>\n",
       "      <td>13.072398</td>\n",
       "      <td>20.310847</td>\n",
       "      <td>1</td>\n",
       "    </tr>\n",
       "  </tbody>\n",
       "</table>\n",
       "</div>"
      ],
      "text/plain": [
       "           src_ip  src_port          dst_ip  dst_port  proto  pktTotalCount  \\\n",
       "0  172.217.12.170       443   192.168.8.219     55530      6             51   \n",
       "1   192.168.8.219     55530  172.217.12.170       443      6             51   \n",
       "2   77.234.46.106        80   192.168.8.219     55557      6             66   \n",
       "3   192.168.8.219     55557   77.234.46.106        80      6             62   \n",
       "4   192.168.8.219     57580  104.16.122.127       443      6              8   \n",
       "\n",
       "   octetTotalCount  min_ps  max_ps      avg_ps  std_dev_ps     flowStart  \\\n",
       "0             4335      85      85   85.000000    0.000000  1.593452e+09   \n",
       "1             2676      52      64   52.470588    2.329293  1.593452e+09   \n",
       "2            20066      52    1500  304.030303  474.175807  1.593452e+09   \n",
       "3             6468      40     306  104.322581  109.045237  1.593452e+09   \n",
       "4              344      40      64   43.000000    7.937254  1.593452e+09   \n",
       "\n",
       "        flowEnd  flowDuration      min_piat   max_piat   avg_piat  \\\n",
       "0  1.593453e+09   1440.048191  9.012222e-05  30.306676  28.800964   \n",
       "1  1.593453e+09   1440.048191  7.390976e-05  30.306626  28.800964   \n",
       "2  1.593453e+09   1433.032501  1.127720e-04  45.622300  22.046654   \n",
       "3  1.593453e+09   1433.012500  3.488064e-04  45.611806  23.492008   \n",
       "4  1.593452e+09     91.506789  9.536743e-07  45.224904  13.072398   \n",
       "\n",
       "   std_dev_piat  new_column  \n",
       "0      5.879810           0  \n",
       "1      5.879813           1  \n",
       "2     21.045142           0  \n",
       "3     20.931158           1  \n",
       "4     20.310847           1  "
      ]
     },
     "execution_count": 35,
     "metadata": {},
     "output_type": "execute_result"
    }
   ],
   "source": [
    "df.head()"
   ]
  },
  {
   "cell_type": "code",
   "execution_count": 36,
   "metadata": {},
   "outputs": [
    {
     "ename": "AttributeError",
     "evalue": "module 'tensorflow._api.v2.dtypes' has no attribute 'float'",
     "output_type": "error",
     "traceback": [
      "\u001b[0;31m---------------------------------------------------------------------------\u001b[0m",
      "\u001b[0;31mAttributeError\u001b[0m                            Traceback (most recent call last)",
      "\u001b[0;32m<ipython-input-36-fbbe16b85dd4>\u001b[0m in \u001b[0;36m<module>\u001b[0;34m\u001b[0m\n\u001b[0;32m----> 1\u001b[0;31m \u001b[0msrc_ip\u001b[0m \u001b[0;34m=\u001b[0m \u001b[0mtf\u001b[0m\u001b[0;34m.\u001b[0m\u001b[0mfeature_column\u001b[0m\u001b[0;34m.\u001b[0m\u001b[0mcategorical_column_with_hash_bucket\u001b[0m\u001b[0;34m(\u001b[0m\u001b[0;34m\"src_ip\"\u001b[0m\u001b[0;34m,\u001b[0m\u001b[0mhash_bucket_size\u001b[0m\u001b[0;34m=\u001b[0m\u001b[0;36m1000\u001b[0m\u001b[0;34m,\u001b[0m \u001b[0mdtype\u001b[0m\u001b[0;34m=\u001b[0m\u001b[0mtf\u001b[0m\u001b[0;34m.\u001b[0m\u001b[0mdtypes\u001b[0m\u001b[0;34m.\u001b[0m\u001b[0mfloat\u001b[0m\u001b[0;34m)\u001b[0m\u001b[0;34m\u001b[0m\u001b[0;34m\u001b[0m\u001b[0m\n\u001b[0m\u001b[1;32m      2\u001b[0m \u001b[0msrc_port\u001b[0m \u001b[0;34m=\u001b[0m \u001b[0mtf\u001b[0m\u001b[0;34m.\u001b[0m\u001b[0mfeature_column\u001b[0m\u001b[0;34m.\u001b[0m\u001b[0mcategorical_column_with_hash_bucket\u001b[0m\u001b[0;34m(\u001b[0m\u001b[0;34m\"src_port\"\u001b[0m\u001b[0;34m,\u001b[0m\u001b[0mhash_bucket_size\u001b[0m\u001b[0;34m=\u001b[0m\u001b[0;36m1000\u001b[0m\u001b[0;34m,\u001b[0m \u001b[0mdtype\u001b[0m\u001b[0;34m=\u001b[0m\u001b[0mtf\u001b[0m\u001b[0;34m.\u001b[0m\u001b[0mdtypes\u001b[0m\u001b[0;34m.\u001b[0m\u001b[0mfloat\u001b[0m\u001b[0;34m)\u001b[0m\u001b[0;34m\u001b[0m\u001b[0;34m\u001b[0m\u001b[0m\n\u001b[1;32m      3\u001b[0m \u001b[0mdst_ip\u001b[0m \u001b[0;34m=\u001b[0m \u001b[0mtf\u001b[0m\u001b[0;34m.\u001b[0m\u001b[0mfeature_column\u001b[0m\u001b[0;34m.\u001b[0m\u001b[0mcategorical_column_with_hash_bucket\u001b[0m\u001b[0;34m(\u001b[0m\u001b[0;34m\"dst_ip\"\u001b[0m\u001b[0;34m,\u001b[0m\u001b[0mhash_bucket_size\u001b[0m\u001b[0;34m=\u001b[0m\u001b[0;36m1000\u001b[0m\u001b[0;34m,\u001b[0m \u001b[0mdtype\u001b[0m\u001b[0;34m=\u001b[0m\u001b[0mtf\u001b[0m\u001b[0;34m.\u001b[0m\u001b[0mdtypes\u001b[0m\u001b[0;34m.\u001b[0m\u001b[0mfloat\u001b[0m\u001b[0;34m)\u001b[0m\u001b[0;34m\u001b[0m\u001b[0;34m\u001b[0m\u001b[0m\n\u001b[1;32m      4\u001b[0m \u001b[0mdst_port\u001b[0m \u001b[0;34m=\u001b[0m \u001b[0mtf\u001b[0m\u001b[0;34m.\u001b[0m\u001b[0mfeature_column\u001b[0m\u001b[0;34m.\u001b[0m\u001b[0mcategorical_column_with_hash_bucket\u001b[0m\u001b[0;34m(\u001b[0m\u001b[0;34m\"dst_port\"\u001b[0m\u001b[0;34m,\u001b[0m\u001b[0mhash_bucket_size\u001b[0m\u001b[0;34m=\u001b[0m\u001b[0;36m1000\u001b[0m\u001b[0;34m,\u001b[0m \u001b[0mdtype\u001b[0m\u001b[0;34m=\u001b[0m\u001b[0mtf\u001b[0m\u001b[0;34m.\u001b[0m\u001b[0mdtypes\u001b[0m\u001b[0;34m.\u001b[0m\u001b[0mfloat\u001b[0m\u001b[0;34m)\u001b[0m\u001b[0;34m\u001b[0m\u001b[0;34m\u001b[0m\u001b[0m\n\u001b[1;32m      5\u001b[0m \u001b[0mproto\u001b[0m \u001b[0;34m=\u001b[0m \u001b[0mtf\u001b[0m\u001b[0;34m.\u001b[0m\u001b[0mfeature_column\u001b[0m\u001b[0;34m.\u001b[0m\u001b[0mcategorical_column_with_hash_bucket\u001b[0m\u001b[0;34m(\u001b[0m\u001b[0;34m\"proto\"\u001b[0m\u001b[0;34m,\u001b[0m\u001b[0mhash_bucket_size\u001b[0m\u001b[0;34m=\u001b[0m\u001b[0;36m1000\u001b[0m\u001b[0;34m,\u001b[0m \u001b[0mdtype\u001b[0m\u001b[0;34m=\u001b[0m\u001b[0mtf\u001b[0m\u001b[0;34m.\u001b[0m\u001b[0mdtypes\u001b[0m\u001b[0;34m.\u001b[0m\u001b[0mfloat\u001b[0m\u001b[0;34m)\u001b[0m\u001b[0;34m\u001b[0m\u001b[0;34m\u001b[0m\u001b[0m\n",
      "\u001b[0;31mAttributeError\u001b[0m: module 'tensorflow._api.v2.dtypes' has no attribute 'float'"
     ]
    }
   ],
   "source": [
    "src_ip = tf.feature_column.categorical_column_with_hash_bucket(\"src_ip\",hash_bucket_size=1000, dtype=tf.dtypes.float)\n",
    "src_port = tf.feature_column.categorical_column_with_hash_bucket(\"src_port\",hash_bucket_size=1000, dtype=tf.dtypes.float)\n",
    "dst_ip = tf.feature_column.categorical_column_with_hash_bucket(\"dst_ip\",hash_bucket_size=1000, dtype=tf.dtypes.float)\n",
    "dst_port = tf.feature_column.categorical_column_with_hash_bucket(\"dst_port\",hash_bucket_size=1000, dtype=tf.dtypes.float)\n",
    "proto = tf.feature_column.categorical_column_with_hash_bucket(\"proto\",hash_bucket_size=1000, dtype=tf.dtypes.float)\n",
    "pktTotalCount = tf.feature_column.categorical_column_with_hash_bucket(\"pktTotalCount\",hash_bucket_size=1000, dtype=tf.dtypes.float)\n",
    "octetTotalCount = tf.feature_column.categorical_column_with_hash_bucket(\"octetTotalCount\",hash_bucket_size=1000, dtype=tf.dtypes.float)\n",
    "min_ps = tf.feature_column.categorical_column_with_hash_bucket(\"min_ps\",hash_bucket_size=1000, dtype=tf.dtypes.float)\n",
    "max_ps = tf.feature_column.categorical_column_with_hash_bucket(\"max_ps\",hash_bucket_size=1000, dtype=tf.dtypes.float)\n",
    "avg_ps = tf.feature_column.categorical_column_with_hash_bucket(\"avg_ps\",hash_bucket_size=1000, dtype=tf.dtypes.float)\n",
    "std_dev_ps = tf.feature_column.categorical_column_with_hash_bucket(\"std_dev_ps\",hash_bucket_size=1000, dtype=tf.dtypes.float)\n",
    "flowStart = tf.feature_column.categorical_column_with_hash_bucket(\"flowStart\",hash_bucket_size=1000, dtype=tf.dtypes.float)\n",
    "flowEnd = tf.feature_column.categorical_column_with_hash_bucket(\"flowEnd\",hash_bucket_size=1000, dtype=tf.dtypes.float)\n",
    "flowDuration = tf.feature_column.categorical_column_with_hash_bucket(\"flowDuration\",hash_bucket_size=1000, dtype=tf.dtypes.float)\n",
    "min_piat = tf.feature_column.categorical_column_with_hash_bucket(\"min_piat\",hash_bucket_size=1000, dtype=tf.dtypes.float)\n",
    "max_piat = tf.feature_column.categorical_column_with_hash_bucket(\"max_piat\",hash_bucket_size=1000, dtype=tf.dtypes.float)\n",
    "avg_piat = tf.feature_column.categorical_column_with_hash_bucket(\"avg_piat\",hash_bucket_size=1000, dtype=tf.dtypes.float)\n",
    "std_dev_piat = tf.feature_column.categorical_column_with_hash_bucket(\"std_dev_piat\",hash_bucket_size=1000, dtype=tf.dtypes.float)"
   ]
  },
  {
   "cell_type": "code",
   "execution_count": null,
   "metadata": {},
   "outputs": [],
   "source": [
    "feat_cols = [src_ip,src_port,dst_ip,dst_port,proto,pktTotalCount,octetTotalCount,min_ps,max_ps,avg_ps,std_dev_ps,flowStart,flowEnd,flowDuration,min_piat,max_piat,avg_piat,std_dev_piat]"
   ]
  },
  {
   "cell_type": "code",
   "execution_count": null,
   "metadata": {},
   "outputs": [],
   "source": [
    "input_func = tf.compat.v1.estimator.inputs.pandas_input_fn(x=X_train,y=y_train,batch_size=100,num_epochs=None,shuffle=True)"
   ]
  },
  {
   "cell_type": "code",
   "execution_count": null,
   "metadata": {},
   "outputs": [],
   "source": [
    "model = tf.estimator.LinearClassifier(feature_columns=feat_cols)"
   ]
  },
  {
   "cell_type": "code",
   "execution_count": null,
   "metadata": {},
   "outputs": [],
   "source": [
    "model.train(input_fn=input_func,steps=120)"
   ]
  },
  {
   "cell_type": "code",
   "execution_count": 58,
   "metadata": {},
   "outputs": [],
   "source": [
    "pred_fn = tf.compat.v1.estimator.inputs.pandas_input_fn(x=X_test,batch_size=len(X_test),shuffle=False)"
   ]
  },
  {
   "cell_type": "code",
   "execution_count": 59,
   "metadata": {},
   "outputs": [],
   "source": [
    "pred_gen = model.predict(input_fn=pred_fn)"
   ]
  },
  {
   "cell_type": "code",
   "execution_count": 60,
   "metadata": {},
   "outputs": [
    {
     "name": "stdout",
     "output_type": "stream",
     "text": [
      "INFO:tensorflow:Could not find trained model in model_dir: /var/folders/qf/x4zt60d17593p_nh2sl0p2v40000gn/T/tmps5s7h2vo, running initialization to predict.\n",
      "INFO:tensorflow:Calling model_fn.\n"
     ]
    },
    {
     "ename": "ValueError",
     "evalue": "in user code:\n\n    /opt/anaconda3/lib/python3.8/site-packages/tensorflow_estimator/python/estimator/canned/linear.py:1671 call  *\n        return self.layer(features)\n    /opt/anaconda3/lib/python3.8/site-packages/tensorflow_estimator/python/estimator/canned/linear.py:1499 call  *\n        weighted_sum = fc_v2._create_weighted_sum(  # pylint: disable=protected-access\n    /opt/anaconda3/lib/python3.8/site-packages/tensorflow/python/feature_column/feature_column_v2.py:2133 _create_weighted_sum  **\n        return _create_categorical_column_weighted_sum(\n    /opt/anaconda3/lib/python3.8/site-packages/tensorflow/python/feature_column/feature_column_v2.py:2225 _create_categorical_column_weighted_sum\n        sparse_tensors = column.get_sparse_tensors(transformation_cache,\n    /opt/anaconda3/lib/python3.8/site-packages/tensorflow/python/feature_column/feature_column_v2.py:3344 get_sparse_tensors\n        transformation_cache.get(self, state_manager), None)\n    /opt/anaconda3/lib/python3.8/site-packages/tensorflow/python/feature_column/feature_column_v2.py:2355 get\n        transformed = column.transform_feature(self, state_manager)\n    /opt/anaconda3/lib/python3.8/site-packages/tensorflow/python/feature_column/feature_column_v2.py:3322 transform_feature\n        return self._transform_input_tensor(input_tensor)\n    /opt/anaconda3/lib/python3.8/site-packages/tensorflow/python/feature_column/feature_column_v2.py:3298 _transform_input_tensor\n        fc_utils.assert_string_or_int(\n    /opt/anaconda3/lib/python3.8/site-packages/tensorflow/python/feature_column/utils.py:57 assert_string_or_int\n        raise ValueError(\n\n    ValueError: column_name: avg_piat input_tensor dtype must be string or integer. dtype: <dtype: 'float32'>.\n",
     "output_type": "error",
     "traceback": [
      "\u001b[0;31m---------------------------------------------------------------------------\u001b[0m",
      "\u001b[0;31mValueError\u001b[0m                                Traceback (most recent call last)",
      "\u001b[0;32m<ipython-input-60-a9f0035a18a9>\u001b[0m in \u001b[0;36m<module>\u001b[0;34m\u001b[0m\n\u001b[0;32m----> 1\u001b[0;31m \u001b[0mpredictions\u001b[0m \u001b[0;34m=\u001b[0m \u001b[0mlist\u001b[0m\u001b[0;34m(\u001b[0m\u001b[0mpred_gen\u001b[0m\u001b[0;34m)\u001b[0m\u001b[0;34m\u001b[0m\u001b[0;34m\u001b[0m\u001b[0m\n\u001b[0m",
      "\u001b[0;32m/opt/anaconda3/lib/python3.8/site-packages/tensorflow_estimator/python/estimator/estimator.py\u001b[0m in \u001b[0;36mpredict\u001b[0;34m(self, input_fn, predict_keys, hooks, checkpoint_path, yield_single_examples)\u001b[0m\n\u001b[1;32m    610\u001b[0m         features, input_hooks = self._get_features_from_input_fn(\n\u001b[1;32m    611\u001b[0m             input_fn, ModeKeys.PREDICT)\n\u001b[0;32m--> 612\u001b[0;31m         estimator_spec = self._call_model_fn(features, None, ModeKeys.PREDICT,\n\u001b[0m\u001b[1;32m    613\u001b[0m                                              self.config)\n\u001b[1;32m    614\u001b[0m \u001b[0;34m\u001b[0m\u001b[0m\n",
      "\u001b[0;32m/opt/anaconda3/lib/python3.8/site-packages/tensorflow_estimator/python/estimator/estimator.py\u001b[0m in \u001b[0;36m_call_model_fn\u001b[0;34m(self, features, labels, mode, config)\u001b[0m\n\u001b[1;32m   1161\u001b[0m \u001b[0;34m\u001b[0m\u001b[0m\n\u001b[1;32m   1162\u001b[0m     \u001b[0mlogging\u001b[0m\u001b[0;34m.\u001b[0m\u001b[0minfo\u001b[0m\u001b[0;34m(\u001b[0m\u001b[0;34m'Calling model_fn.'\u001b[0m\u001b[0;34m)\u001b[0m\u001b[0;34m\u001b[0m\u001b[0;34m\u001b[0m\u001b[0m\n\u001b[0;32m-> 1163\u001b[0;31m     \u001b[0mmodel_fn_results\u001b[0m \u001b[0;34m=\u001b[0m \u001b[0mself\u001b[0m\u001b[0;34m.\u001b[0m\u001b[0m_model_fn\u001b[0m\u001b[0;34m(\u001b[0m\u001b[0mfeatures\u001b[0m\u001b[0;34m=\u001b[0m\u001b[0mfeatures\u001b[0m\u001b[0;34m,\u001b[0m \u001b[0;34m**\u001b[0m\u001b[0mkwargs\u001b[0m\u001b[0;34m)\u001b[0m\u001b[0;34m\u001b[0m\u001b[0;34m\u001b[0m\u001b[0m\n\u001b[0m\u001b[1;32m   1164\u001b[0m     \u001b[0mlogging\u001b[0m\u001b[0;34m.\u001b[0m\u001b[0minfo\u001b[0m\u001b[0;34m(\u001b[0m\u001b[0;34m'Done calling model_fn.'\u001b[0m\u001b[0;34m)\u001b[0m\u001b[0;34m\u001b[0m\u001b[0;34m\u001b[0m\u001b[0m\n\u001b[1;32m   1165\u001b[0m \u001b[0;34m\u001b[0m\u001b[0m\n",
      "\u001b[0;32m/opt/anaconda3/lib/python3.8/site-packages/tensorflow_estimator/python/estimator/canned/linear.py\u001b[0m in \u001b[0;36m_model_fn\u001b[0;34m(features, labels, mode, config)\u001b[0m\n\u001b[1;32m    935\u001b[0m     \u001b[0;32mdef\u001b[0m \u001b[0m_model_fn\u001b[0m\u001b[0;34m(\u001b[0m\u001b[0mfeatures\u001b[0m\u001b[0;34m,\u001b[0m \u001b[0mlabels\u001b[0m\u001b[0;34m,\u001b[0m \u001b[0mmode\u001b[0m\u001b[0;34m,\u001b[0m \u001b[0mconfig\u001b[0m\u001b[0;34m)\u001b[0m\u001b[0;34m:\u001b[0m\u001b[0;34m\u001b[0m\u001b[0;34m\u001b[0m\u001b[0m\n\u001b[1;32m    936\u001b[0m       \u001b[0;34m\"\"\"Call the defined shared _linear_model_fn.\"\"\"\u001b[0m\u001b[0;34m\u001b[0m\u001b[0;34m\u001b[0m\u001b[0m\n\u001b[0;32m--> 937\u001b[0;31m       return _linear_model_fn_v2(\n\u001b[0m\u001b[1;32m    938\u001b[0m           \u001b[0mfeatures\u001b[0m\u001b[0;34m=\u001b[0m\u001b[0mfeatures\u001b[0m\u001b[0;34m,\u001b[0m\u001b[0;34m\u001b[0m\u001b[0;34m\u001b[0m\u001b[0m\n\u001b[1;32m    939\u001b[0m           \u001b[0mlabels\u001b[0m\u001b[0;34m=\u001b[0m\u001b[0mlabels\u001b[0m\u001b[0;34m,\u001b[0m\u001b[0;34m\u001b[0m\u001b[0;34m\u001b[0m\u001b[0m\n",
      "\u001b[0;32m/opt/anaconda3/lib/python3.8/site-packages/tensorflow_estimator/python/estimator/canned/linear.py\u001b[0m in \u001b[0;36m_linear_model_fn_v2\u001b[0;34m(***failed resolving arguments***)\u001b[0m\n\u001b[1;32m    663\u001b[0m                           optimizer)\n\u001b[1;32m    664\u001b[0m   \u001b[0;32melse\u001b[0m\u001b[0;34m:\u001b[0m\u001b[0;34m\u001b[0m\u001b[0;34m\u001b[0m\u001b[0m\n\u001b[0;32m--> 665\u001b[0;31m     logits, trainable_variables = _linear_model_fn_builder_v2(\n\u001b[0m\u001b[1;32m    666\u001b[0m         \u001b[0munits\u001b[0m\u001b[0;34m=\u001b[0m\u001b[0mhead\u001b[0m\u001b[0;34m.\u001b[0m\u001b[0mlogits_dimension\u001b[0m\u001b[0;34m,\u001b[0m\u001b[0;34m\u001b[0m\u001b[0;34m\u001b[0m\u001b[0m\n\u001b[1;32m    667\u001b[0m         \u001b[0mfeature_columns\u001b[0m\u001b[0;34m=\u001b[0m\u001b[0mfeature_columns\u001b[0m\u001b[0;34m,\u001b[0m\u001b[0;34m\u001b[0m\u001b[0;34m\u001b[0m\u001b[0m\n",
      "\u001b[0;32m/opt/anaconda3/lib/python3.8/site-packages/tensorflow_estimator/python/estimator/canned/linear.py\u001b[0m in \u001b[0;36m_linear_model_fn_builder_v2\u001b[0;34m(units, feature_columns, sparse_combiner, features)\u001b[0m\n\u001b[1;32m    600\u001b[0m       \u001b[0msparse_combiner\u001b[0m\u001b[0;34m=\u001b[0m\u001b[0msparse_combiner\u001b[0m\u001b[0;34m,\u001b[0m\u001b[0;34m\u001b[0m\u001b[0;34m\u001b[0m\u001b[0m\n\u001b[1;32m    601\u001b[0m       name='linear/linear_model')\n\u001b[0;32m--> 602\u001b[0;31m   \u001b[0mlogits\u001b[0m \u001b[0;34m=\u001b[0m \u001b[0mlinear_model\u001b[0m\u001b[0;34m(\u001b[0m\u001b[0mfeatures\u001b[0m\u001b[0;34m)\u001b[0m\u001b[0;34m\u001b[0m\u001b[0;34m\u001b[0m\u001b[0m\n\u001b[0m\u001b[1;32m    603\u001b[0m   \u001b[0mbias\u001b[0m \u001b[0;34m=\u001b[0m \u001b[0mlinear_model\u001b[0m\u001b[0;34m.\u001b[0m\u001b[0mbias\u001b[0m\u001b[0;34m\u001b[0m\u001b[0;34m\u001b[0m\u001b[0m\n\u001b[1;32m    604\u001b[0m \u001b[0;34m\u001b[0m\u001b[0m\n",
      "\u001b[0;32m/opt/anaconda3/lib/python3.8/site-packages/tensorflow/python/keras/engine/base_layer_v1.py\u001b[0m in \u001b[0;36m__call__\u001b[0;34m(self, *args, **kwargs)\u001b[0m\n\u001b[1;32m    784\u001b[0m               with autocast_variable.enable_auto_cast_variables(\n\u001b[1;32m    785\u001b[0m                   self._compute_dtype_object):\n\u001b[0;32m--> 786\u001b[0;31m                 \u001b[0moutputs\u001b[0m \u001b[0;34m=\u001b[0m \u001b[0mcall_fn\u001b[0m\u001b[0;34m(\u001b[0m\u001b[0mcast_inputs\u001b[0m\u001b[0;34m,\u001b[0m \u001b[0;34m*\u001b[0m\u001b[0margs\u001b[0m\u001b[0;34m,\u001b[0m \u001b[0;34m**\u001b[0m\u001b[0mkwargs\u001b[0m\u001b[0;34m)\u001b[0m\u001b[0;34m\u001b[0m\u001b[0;34m\u001b[0m\u001b[0m\n\u001b[0m\u001b[1;32m    787\u001b[0m \u001b[0;34m\u001b[0m\u001b[0m\n\u001b[1;32m    788\u001b[0m             \u001b[0;32mexcept\u001b[0m \u001b[0merrors\u001b[0m\u001b[0;34m.\u001b[0m\u001b[0mOperatorNotAllowedInGraphError\u001b[0m \u001b[0;32mas\u001b[0m \u001b[0me\u001b[0m\u001b[0;34m:\u001b[0m\u001b[0;34m\u001b[0m\u001b[0;34m\u001b[0m\u001b[0m\n",
      "\u001b[0;32m/opt/anaconda3/lib/python3.8/site-packages/tensorflow/python/autograph/impl/api.py\u001b[0m in \u001b[0;36mwrapper\u001b[0;34m(*args, **kwargs)\u001b[0m\n\u001b[1;32m    668\u001b[0m       \u001b[0;32mexcept\u001b[0m \u001b[0mException\u001b[0m \u001b[0;32mas\u001b[0m \u001b[0me\u001b[0m\u001b[0;34m:\u001b[0m  \u001b[0;31m# pylint:disable=broad-except\u001b[0m\u001b[0;34m\u001b[0m\u001b[0;34m\u001b[0m\u001b[0m\n\u001b[1;32m    669\u001b[0m         \u001b[0;32mif\u001b[0m \u001b[0mhasattr\u001b[0m\u001b[0;34m(\u001b[0m\u001b[0me\u001b[0m\u001b[0;34m,\u001b[0m \u001b[0;34m'ag_error_metadata'\u001b[0m\u001b[0;34m)\u001b[0m\u001b[0;34m:\u001b[0m\u001b[0;34m\u001b[0m\u001b[0;34m\u001b[0m\u001b[0m\n\u001b[0;32m--> 670\u001b[0;31m           \u001b[0;32mraise\u001b[0m \u001b[0me\u001b[0m\u001b[0;34m.\u001b[0m\u001b[0mag_error_metadata\u001b[0m\u001b[0;34m.\u001b[0m\u001b[0mto_exception\u001b[0m\u001b[0;34m(\u001b[0m\u001b[0me\u001b[0m\u001b[0;34m)\u001b[0m\u001b[0;34m\u001b[0m\u001b[0;34m\u001b[0m\u001b[0m\n\u001b[0m\u001b[1;32m    671\u001b[0m         \u001b[0;32melse\u001b[0m\u001b[0;34m:\u001b[0m\u001b[0;34m\u001b[0m\u001b[0;34m\u001b[0m\u001b[0m\n\u001b[1;32m    672\u001b[0m           \u001b[0;32mraise\u001b[0m\u001b[0;34m\u001b[0m\u001b[0;34m\u001b[0m\u001b[0m\n",
      "\u001b[0;31mValueError\u001b[0m: in user code:\n\n    /opt/anaconda3/lib/python3.8/site-packages/tensorflow_estimator/python/estimator/canned/linear.py:1671 call  *\n        return self.layer(features)\n    /opt/anaconda3/lib/python3.8/site-packages/tensorflow_estimator/python/estimator/canned/linear.py:1499 call  *\n        weighted_sum = fc_v2._create_weighted_sum(  # pylint: disable=protected-access\n    /opt/anaconda3/lib/python3.8/site-packages/tensorflow/python/feature_column/feature_column_v2.py:2133 _create_weighted_sum  **\n        return _create_categorical_column_weighted_sum(\n    /opt/anaconda3/lib/python3.8/site-packages/tensorflow/python/feature_column/feature_column_v2.py:2225 _create_categorical_column_weighted_sum\n        sparse_tensors = column.get_sparse_tensors(transformation_cache,\n    /opt/anaconda3/lib/python3.8/site-packages/tensorflow/python/feature_column/feature_column_v2.py:3344 get_sparse_tensors\n        transformation_cache.get(self, state_manager), None)\n    /opt/anaconda3/lib/python3.8/site-packages/tensorflow/python/feature_column/feature_column_v2.py:2355 get\n        transformed = column.transform_feature(self, state_manager)\n    /opt/anaconda3/lib/python3.8/site-packages/tensorflow/python/feature_column/feature_column_v2.py:3322 transform_feature\n        return self._transform_input_tensor(input_tensor)\n    /opt/anaconda3/lib/python3.8/site-packages/tensorflow/python/feature_column/feature_column_v2.py:3298 _transform_input_tensor\n        fc_utils.assert_string_or_int(\n    /opt/anaconda3/lib/python3.8/site-packages/tensorflow/python/feature_column/utils.py:57 assert_string_or_int\n        raise ValueError(\n\n    ValueError: column_name: avg_piat input_tensor dtype must be string or integer. dtype: <dtype: 'float32'>.\n"
     ]
    }
   ],
   "source": [
    "predictions = list(pred_gen)"
   ]
  },
  {
   "cell_type": "code",
   "execution_count": 61,
   "metadata": {},
   "outputs": [
    {
     "ename": "NameError",
     "evalue": "name 'predictions' is not defined",
     "output_type": "error",
     "traceback": [
      "\u001b[0;31m---------------------------------------------------------------------------\u001b[0m",
      "\u001b[0;31mNameError\u001b[0m                                 Traceback (most recent call last)",
      "\u001b[0;32m<ipython-input-61-411f2e382cee>\u001b[0m in \u001b[0;36m<module>\u001b[0;34m\u001b[0m\n\u001b[0;32m----> 1\u001b[0;31m \u001b[0mpredictions\u001b[0m \u001b[0;34m=\u001b[0m \u001b[0mlist\u001b[0m\u001b[0;34m(\u001b[0m\u001b[0mpredictions\u001b[0m\u001b[0;34m)\u001b[0m\u001b[0;34m\u001b[0m\u001b[0;34m\u001b[0m\u001b[0m\n\u001b[0m",
      "\u001b[0;31mNameError\u001b[0m: name 'predictions' is not defined"
     ]
    }
   ],
   "source": [
    "predictions = list(predictions)"
   ]
  },
  {
   "cell_type": "code",
   "execution_count": null,
   "metadata": {},
   "outputs": [],
   "source": []
  }
 ],
 "metadata": {
  "kernelspec": {
   "display_name": "Python 3",
   "language": "python",
   "name": "python3"
  },
  "language_info": {
   "codemirror_mode": {
    "name": "ipython",
    "version": 3
   },
   "file_extension": ".py",
   "mimetype": "text/x-python",
   "name": "python",
   "nbconvert_exporter": "python",
   "pygments_lexer": "ipython3",
   "version": "3.8.5"
  }
 },
 "nbformat": 4,
 "nbformat_minor": 4
}
